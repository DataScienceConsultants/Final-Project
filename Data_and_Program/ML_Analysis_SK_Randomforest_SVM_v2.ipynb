{
 "cells": [
  {
   "cell_type": "markdown",
   "metadata": {},
   "source": [
    "### FINAL PROJECT - Random Forest and Support Vector Machine Linear Classifier....... "
   ]
  },
  {
   "cell_type": "code",
   "execution_count": 28,
   "metadata": {},
   "outputs": [],
   "source": [
    "import pandas as pd\n",
    "import numpy as np\n",
    "import matplotlib as plt\n",
    "import matplotlib.pyplot as pltt\n",
    "from sklearn import tree\n",
    "import os"
   ]
  },
  {
   "cell_type": "code",
   "execution_count": null,
   "metadata": {},
   "outputs": [],
   "source": [
    "data = pd.read_csv('./Data/Speed_Dating_Data.csv', encoding='latin-1', engine=\"python\")\n",
    "# What kind of data are we dealing with?\n",
    "data.dtypes.value_counts()"
   ]
  },
  {
   "cell_type": "code",
   "execution_count": null,
   "metadata": {},
   "outputs": [],
   "source": [
    "# Men (1) and women (0)\n",
    "data.groupby('iid').mean().gender.value_counts()"
   ]
  },
  {
   "cell_type": "code",
   "execution_count": null,
   "metadata": {},
   "outputs": [],
   "source": [
    "# What percentage of pairs resulted in a match?\n",
    "data['match'].value_counts(normalize=True)"
   ]
  },
  {
   "cell_type": "code",
   "execution_count": null,
   "metadata": {},
   "outputs": [],
   "source": [
    "data.head()"
   ]
  },
  {
   "cell_type": "code",
   "execution_count": null,
   "metadata": {},
   "outputs": [],
   "source": [
    "data.describe()"
   ]
  },
  {
   "cell_type": "code",
   "execution_count": null,
   "metadata": {},
   "outputs": [],
   "source": [
    "info = ['iid','attr_o','sinc_o','intel_o','fun_o','amb_o','shar_o','like_o','race','pid','dec_o',\n",
    "        'gender','age', 'pf_o_att','pf_o_sin','pf_o_int','pf_o_fun','pf_o_amb','pf_o_sha','go_out',\n",
    "        'sports', 'tvsports', 'exercise', 'dining', 'museums',\n",
    " 'art', 'hiking', 'gaming', 'clubbing', 'reading', 'tv', 'theater',\n",
    " 'movies', 'concerts', 'music', 'shopping', 'yoga','match']\n",
    "df = data[info]"
   ]
  },
  {
   "cell_type": "code",
   "execution_count": null,
   "metadata": {},
   "outputs": [],
   "source": [
    "df.fillna(0)\n",
    "df = df[np.isfinite(df).all(1)]"
   ]
  },
  {
   "cell_type": "code",
   "execution_count": null,
   "metadata": {},
   "outputs": [],
   "source": [
    "data.describe()"
   ]
  },
  {
   "cell_type": "code",
   "execution_count": null,
   "metadata": {},
   "outputs": [],
   "source": [
    "df.dropna()\n",
    "df.to_csv('out.csv')"
   ]
  },
  {
   "cell_type": "code",
   "execution_count": null,
   "metadata": {},
   "outputs": [],
   "source": [
    "X = df[['attr_o','sinc_o','intel_o','fun_o','amb_o','shar_o','like_o','race','dec_o','gender','age', 'pf_o_att','pf_o_sin','pf_o_int','pf_o_fun','pf_o_amb','pf_o_sha','go_out', 'sports', 'tvsports', 'exercise', 'dining', 'museums',\n",
    " 'art', 'hiking', 'gaming', 'clubbing', 'reading', 'tv', 'theater',\n",
    " 'movies', 'concerts', 'music', 'shopping', 'yoga']]\n",
    "y = df['dec_o'].values.reshape(-1, 1)\n",
    "print(X.shape, y.shape)"
   ]
  },
  {
   "cell_type": "code",
   "execution_count": null,
   "metadata": {},
   "outputs": [],
   "source": [
    "from sklearn.model_selection import train_test_split\n",
    "\n",
    "X = pd.get_dummies(X)\n",
    "\n",
    "X_train, X_test, y_train, y_test = train_test_split(X, y, random_state=42)\n",
    "\n",
    "X_train.head()"
   ]
  },
  {
   "cell_type": "code",
   "execution_count": null,
   "metadata": {},
   "outputs": [],
   "source": [
    "#int(y_train)\n",
    "y_train=y_train.astype('int32')"
   ]
  },
  {
   "cell_type": "code",
   "execution_count": null,
   "metadata": {},
   "outputs": [],
   "source": [
    "from sklearn.model_selection import train_test_split\n",
    "\n",
    "X = pd.get_dummies(X)\n",
    "\n",
    "X_train, X_test, y_train, y_test = train_test_split(X, y, random_state=42)\n",
    "\n",
    "X_train.head()"
   ]
  },
  {
   "cell_type": "code",
   "execution_count": null,
   "metadata": {},
   "outputs": [],
   "source": [
    "#int(y_train)\n",
    "y_train=y_train.astype('int32')\n",
    "y=y.astype('int32')"
   ]
  },
  {
   "cell_type": "code",
   "execution_count": null,
   "metadata": {},
   "outputs": [],
   "source": [
    "!pip install rfpimp\n",
    "from rfpimp import *\n",
    "import pandas as pd\n",
    "from sklearn.ensemble import RandomForestRegressor\n",
    "from sklearn.model_selection import train_test_split\n",
    "\n",
    "df_train, df_test = train_test_split(df, test_size=0.20)"
   ]
  },
  {
   "cell_type": "code",
   "execution_count": null,
   "metadata": {},
   "outputs": [],
   "source": [
    "features = ['attr_o','sinc_o','intel_o','fun_o','amb_o','shar_o','like_o','race','dec_o','gender','age', 'pf_o_att','pf_o_sin','pf_o_int','pf_o_fun','pf_o_amb','pf_o_sha','go_out', 'sports', 'tvsports', 'exercise', 'dining', 'museums',\n",
    " 'art', 'hiking', 'gaming', 'clubbing', 'reading', 'tv', 'theater',\n",
    " 'movies', 'concerts', 'music', 'shopping', 'yoga']\n",
    "\n",
    "\n",
    "df_train = df_train[features]\n",
    "df_test = df_test[features]\n",
    "\n",
    "X_train, y_train = df_train.drop('dec_o',axis=1), df_train['dec_o']\n",
    "X_test, y_test = df_test.drop('dec_o',axis=1), df_test['dec_o']\n",
    "X_train['random'] = np.random.random(size=len(X_train))\n",
    "X_test['random'] = np.random.random(size=len(X_test))\n",
    "\n",
    "rf = RandomForestRegressor(n_estimators=100, n_jobs=-1)\n",
    "rf.fit(X_train, y_train)\n",
    "\n",
    "imp = importances(rf, X_test, y_test) # permutation\n",
    "viz = plot_importances(imp)\n",
    "viz.view()\n",
    "\n",
    "\n",
    "df_train, df_test = train_test_split(df, test_size=0.20)\n",
    "features = ['attr_o','sinc_o','intel_o','fun_o','amb_o','shar_o','like_o','race','gender','age', 'pf_o_att','pf_o_sin','pf_o_int','pf_o_fun','pf_o_amb','pf_o_sha','go_out', 'sports', 'tvsports', 'exercise', 'dining', 'museums',\n",
    " 'art', 'hiking', 'gaming', 'clubbing', 'reading', 'tv', 'theater',\n",
    " 'movies', 'concerts', 'music', 'shopping', 'yoga']\n",
    "df_train = df_train[features]\n",
    "df_test = df_test[features]\n",
    "\n",
    "X_train, y_train = df_train.drop('like_o',axis=1), df_train['like_o']\n",
    "X_test, y_test = df_test.drop('like_o',axis=1), df_test['like_o']\n",
    "# Add column of random numbers\n",
    "X_train['random'] = np.random.random(size=len(X_train))\n",
    "X_test['random'] = np.random.random(size=len(X_test))\n",
    "\n",
    "rf = RandomForestClassifier(n_estimators=100,\n",
    "                            min_samples_leaf=5,\n",
    "                            n_jobs=-1,\n",
    "                            oob_score=True)\n",
    "rf.fit(X_train, y_train)\n",
    "\n",
    "imp = importances(rf, X_test, y_test, n_samples=-1)\n",
    "viz = plot_importances(imp)\n",
    "viz.view()"
   ]
  },
  {
   "cell_type": "markdown",
   "metadata": {},
   "source": [
    "### SVM"
   ]
  },
  {
   "cell_type": "code",
   "execution_count": 29,
   "metadata": {},
   "outputs": [],
   "source": [
    "df1=pd.read_csv(\"./Data/datas3.csv\", encoding =\"utf8\", engine=\"python\")"
   ]
  },
  {
   "cell_type": "code",
   "execution_count": 30,
   "metadata": {},
   "outputs": [],
   "source": [
    "df1.rename(columns={'attr_o':'Rating_Partner',\n",
    "                    'sinc_o': \"Sincere\",\n",
    "                    'shar_o': \"Sharing\",\n",
    "                    'gender': 'Gender',\n",
    "                    'pf_o_att': 'Preferred Attract',\n",
    "                    'pf_o_sin': 'Preferred Sincere',\n",
    "                    'pf_o_int': 'Preferred Intel',\n",
    "                    'pf_o_fun': 'Preferred Fun',\n",
    "                    'pf_o_amb': 'Preferred Amb',\n",
    "                    'pf_o_sha': 'Preferred Share'}, inplace=True)"
   ]
  },
  {
   "cell_type": "code",
   "execution_count": 36,
   "metadata": {},
   "outputs": [],
   "source": [
    "target1 = df1[\"Rating_Partner\"]\n",
    "target_names1 =['Rating_Partner','Sincere', 'Sharing', 'Gender','Preferred Attract', 'Preferred Sincere','Preferred Intel','Preferred Fun','Preferred Amb','Preferred Share']"
   ]
  },
  {
   "cell_type": "code",
   "execution_count": 37,
   "metadata": {},
   "outputs": [],
   "source": [
    "data1 = df1.drop(\"Rating_Partner\", axis=1)\n",
    "feature_names1=data1.columns\n",
    "#data.head()\n",
    "from sklearn.model_selection import train_test_split\n",
    "X_train, X_test, y_train, y_test = train_test_split(data1,target1,random_state=42)"
   ]
  },
  {
   "cell_type": "code",
   "execution_count": 38,
   "metadata": {},
   "outputs": [],
   "source": [
    "#int(y_train)\n",
    "y_train=y_train.astype('int32')"
   ]
  },
  {
   "cell_type": "code",
   "execution_count": 39,
   "metadata": {},
   "outputs": [
    {
     "data": {
      "text/plain": [
       "SVC(C=1.0, cache_size=200, class_weight=None, coef0=0.0,\n",
       "    decision_function_shape='ovr', degree=3, gamma='auto_deprecated',\n",
       "    kernel='linear', max_iter=-1, probability=False, random_state=None,\n",
       "    shrinking=True, tol=0.001, verbose=False)"
      ]
     },
     "execution_count": 39,
     "metadata": {},
     "output_type": "execute_result"
    }
   ],
   "source": [
    "# Support Vector Machine Linear Classifier\n",
    "from sklearn.svm import SVC\n",
    "model = SVC(kernel='linear')\n",
    "model.fit(X_train, y_train)"
   ]
  },
  {
   "cell_type": "code",
   "execution_count": 40,
   "metadata": {},
   "outputs": [
    {
     "name": "stdout",
     "output_type": "stream",
     "text": [
      "Test Acc: 0.256\n"
     ]
    }
   ],
   "source": [
    "#model accuracy\n",
    "print('Test Acc: %.3f' %model.score(X_test,y_test.round()))"
   ]
  },
  {
   "cell_type": "code",
   "execution_count": 41,
   "metadata": {},
   "outputs": [
    {
     "name": "stdout",
     "output_type": "stream",
     "text": [
      "                   precision    recall  f1-score   support\n",
      "\n",
      "   Rating_Partner       0.00      0.00      0.00        19\n",
      "          Sincere       0.00      0.00      0.00        57\n",
      "          Sharing       0.00      0.00      0.00        72\n",
      "           Gender       0.00      0.00      0.00       152\n",
      "Preferred Attract       0.22      0.25      0.24       263\n",
      "Preferred Sincere       0.26      0.44      0.33       357\n",
      "  Preferred Intel       0.25      0.54      0.34       345\n",
      "    Preferred Fun       1.00      0.00      0.01       261\n",
      "    Preferred Amb       0.00      0.00      0.00       111\n",
      "  Preferred Share       0.74      0.34      0.47        67\n",
      "\n",
      "         accuracy                           0.26      1704\n",
      "        macro avg       0.25      0.16      0.14      1704\n",
      "     weighted avg       0.32      0.26      0.19      1704\n",
      "\n"
     ]
    },
    {
     "name": "stderr",
     "output_type": "stream",
     "text": [
      "/anaconda3/lib/python3.7/site-packages/sklearn/metrics/classification.py:1437: UndefinedMetricWarning: Precision and F-score are ill-defined and being set to 0.0 in labels with no predicted samples.\n",
      "  'precision', 'predicted', average, warn_for)\n"
     ]
    }
   ],
   "source": [
    "#Classification Report\n",
    "from sklearn.metrics import classification_report\n",
    "predictions=model.predict(X_test)\n",
    "print(classification_report(y_test.round(), predictions, target_names=target_names1))"
   ]
  },
  {
   "cell_type": "code",
   "execution_count": null,
   "metadata": {},
   "outputs": [],
   "source": []
  },
  {
   "cell_type": "code",
   "execution_count": null,
   "metadata": {},
   "outputs": [],
   "source": []
  }
 ],
 "metadata": {
  "kernelspec": {
   "display_name": "Python 3",
   "language": "python",
   "name": "python3"
  }
 },
 "nbformat": 4,
 "nbformat_minor": 2
}
