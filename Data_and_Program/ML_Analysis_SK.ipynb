{
 "cells": [
  {
   "cell_type": "markdown",
   "metadata": {},
   "source": [
    "### FINAL PROJECT - ML Support Vector Machine Linear Classifier....... "
   ]
  },
  {
   "cell_type": "code",
   "execution_count": 49,
   "metadata": {},
   "outputs": [],
   "source": [
    "import pandas as pd\n",
    "import numpy as np\n",
    "import matplotlib as plt\n",
    "import matplotlib.pyplot as pltt"
   ]
  },
  {
   "cell_type": "code",
   "execution_count": 50,
   "metadata": {},
   "outputs": [],
   "source": [
    "df=pd.read_csv(\"./Data/datas2.csv\", encoding =\"utf8\", engine=\"python\")"
   ]
  },
  {
   "cell_type": "code",
   "execution_count": 51,
   "metadata": {},
   "outputs": [],
   "source": [
    "df.rename(columns={'iid':'Wave_ID',\n",
    "                   'id': 'Subject_Number',\n",
    "                   'gender': 'Gender',\n",
    "                  'attr_o':'Rating_Partner',\n",
    "                  'sinc_o': \"Sincere\", \n",
    "                    'intel_o': \"Intelligence\", \n",
    "                   'fun_o':\"Fun_Loving\", \n",
    "                   'amb_o': \"Ambitious\",\n",
    "                   'shar_o': \"Sharing\",\n",
    "                   'like_o': \"Likeability\", \n",
    "                   'age': \"Age\", \n",
    "                   'race': \"Race\"}, inplace=True)"
   ]
  },
  {
   "cell_type": "code",
   "execution_count": 52,
   "metadata": {},
   "outputs": [
    {
     "data": {
      "text/html": [
       "<div>\n",
       "<style scoped>\n",
       "    .dataframe tbody tr th:only-of-type {\n",
       "        vertical-align: middle;\n",
       "    }\n",
       "\n",
       "    .dataframe tbody tr th {\n",
       "        vertical-align: top;\n",
       "    }\n",
       "\n",
       "    .dataframe thead th {\n",
       "        text-align: right;\n",
       "    }\n",
       "</style>\n",
       "<table border=\"1\" class=\"dataframe\">\n",
       "  <thead>\n",
       "    <tr style=\"text-align: right;\">\n",
       "      <th></th>\n",
       "      <th>Gender</th>\n",
       "      <th>Rating_Partner</th>\n",
       "      <th>Sincere</th>\n",
       "      <th>Intelligence</th>\n",
       "      <th>Fun_Loving</th>\n",
       "      <th>Ambitious</th>\n",
       "      <th>Sharing</th>\n",
       "      <th>Likeability</th>\n",
       "      <th>Age</th>\n",
       "      <th>Race</th>\n",
       "    </tr>\n",
       "  </thead>\n",
       "  <tbody>\n",
       "    <tr>\n",
       "      <th>6931</th>\n",
       "      <td>1</td>\n",
       "      <td>10.0</td>\n",
       "      <td>5.0</td>\n",
       "      <td>3.0</td>\n",
       "      <td>2.0</td>\n",
       "      <td>6.0</td>\n",
       "      <td>5.0</td>\n",
       "      <td>6.0</td>\n",
       "      <td>25</td>\n",
       "      <td>2</td>\n",
       "    </tr>\n",
       "    <tr>\n",
       "      <th>6932</th>\n",
       "      <td>1</td>\n",
       "      <td>6.0</td>\n",
       "      <td>3.0</td>\n",
       "      <td>7.0</td>\n",
       "      <td>3.0</td>\n",
       "      <td>7.0</td>\n",
       "      <td>2.0</td>\n",
       "      <td>2.0</td>\n",
       "      <td>25</td>\n",
       "      <td>2</td>\n",
       "    </tr>\n",
       "    <tr>\n",
       "      <th>6933</th>\n",
       "      <td>1</td>\n",
       "      <td>2.0</td>\n",
       "      <td>1.0</td>\n",
       "      <td>2.0</td>\n",
       "      <td>2.0</td>\n",
       "      <td>2.0</td>\n",
       "      <td>1.0</td>\n",
       "      <td>2.0</td>\n",
       "      <td>25</td>\n",
       "      <td>2</td>\n",
       "    </tr>\n",
       "    <tr>\n",
       "      <th>6934</th>\n",
       "      <td>1</td>\n",
       "      <td>5.0</td>\n",
       "      <td>7.0</td>\n",
       "      <td>5.0</td>\n",
       "      <td>5.0</td>\n",
       "      <td>3.0</td>\n",
       "      <td>6.0</td>\n",
       "      <td>6.0</td>\n",
       "      <td>25</td>\n",
       "      <td>2</td>\n",
       "    </tr>\n",
       "    <tr>\n",
       "      <th>6935</th>\n",
       "      <td>1</td>\n",
       "      <td>8.0</td>\n",
       "      <td>8.0</td>\n",
       "      <td>7.0</td>\n",
       "      <td>7.0</td>\n",
       "      <td>7.0</td>\n",
       "      <td>7.0</td>\n",
       "      <td>8.0</td>\n",
       "      <td>25</td>\n",
       "      <td>2</td>\n",
       "    </tr>\n",
       "  </tbody>\n",
       "</table>\n",
       "</div>"
      ],
      "text/plain": [
       "      Gender  Rating_Partner  Sincere  Intelligence  Fun_Loving  Ambitious  \\\n",
       "6931       1            10.0      5.0           3.0         2.0        6.0   \n",
       "6932       1             6.0      3.0           7.0         3.0        7.0   \n",
       "6933       1             2.0      1.0           2.0         2.0        2.0   \n",
       "6934       1             5.0      7.0           5.0         5.0        3.0   \n",
       "6935       1             8.0      8.0           7.0         7.0        7.0   \n",
       "\n",
       "      Sharing  Likeability  Age  Race  \n",
       "6931      5.0          6.0   25     2  \n",
       "6932      2.0          2.0   25     2  \n",
       "6933      1.0          2.0   25     2  \n",
       "6934      6.0          6.0   25     2  \n",
       "6935      7.0          8.0   25     2  "
      ]
     },
     "execution_count": 52,
     "metadata": {},
     "output_type": "execute_result"
    }
   ],
   "source": [
    "df.tail()"
   ]
  },
  {
   "cell_type": "code",
   "execution_count": 53,
   "metadata": {},
   "outputs": [
    {
     "data": {
      "text/html": [
       "<div>\n",
       "<style scoped>\n",
       "    .dataframe tbody tr th:only-of-type {\n",
       "        vertical-align: middle;\n",
       "    }\n",
       "\n",
       "    .dataframe tbody tr th {\n",
       "        vertical-align: top;\n",
       "    }\n",
       "\n",
       "    .dataframe thead th {\n",
       "        text-align: right;\n",
       "    }\n",
       "</style>\n",
       "<table border=\"1\" class=\"dataframe\">\n",
       "  <thead>\n",
       "    <tr style=\"text-align: right;\">\n",
       "      <th></th>\n",
       "      <th>Gender</th>\n",
       "      <th>Rating_Partner</th>\n",
       "      <th>Sincere</th>\n",
       "      <th>Intelligence</th>\n",
       "      <th>Fun_Loving</th>\n",
       "      <th>Ambitious</th>\n",
       "      <th>Sharing</th>\n",
       "      <th>Likeability</th>\n",
       "      <th>Age</th>\n",
       "      <th>Race</th>\n",
       "    </tr>\n",
       "  </thead>\n",
       "  <tbody>\n",
       "    <tr>\n",
       "      <th>count</th>\n",
       "      <td>6936.000000</td>\n",
       "      <td>6936.00000</td>\n",
       "      <td>6936.000000</td>\n",
       "      <td>6936.000000</td>\n",
       "      <td>6936.000000</td>\n",
       "      <td>6936.000000</td>\n",
       "      <td>6936.000000</td>\n",
       "      <td>6936.000000</td>\n",
       "      <td>6936.000000</td>\n",
       "      <td>6936.000000</td>\n",
       "    </tr>\n",
       "    <tr>\n",
       "      <th>mean</th>\n",
       "      <td>0.492359</td>\n",
       "      <td>6.18417</td>\n",
       "      <td>7.164072</td>\n",
       "      <td>7.362457</td>\n",
       "      <td>6.393310</td>\n",
       "      <td>6.758867</td>\n",
       "      <td>5.458261</td>\n",
       "      <td>6.125461</td>\n",
       "      <td>26.315311</td>\n",
       "      <td>2.769608</td>\n",
       "    </tr>\n",
       "    <tr>\n",
       "      <th>std</th>\n",
       "      <td>0.499978</td>\n",
       "      <td>1.94981</td>\n",
       "      <td>1.744919</td>\n",
       "      <td>1.560290</td>\n",
       "      <td>1.959211</td>\n",
       "      <td>1.798500</td>\n",
       "      <td>2.148142</td>\n",
       "      <td>1.851470</td>\n",
       "      <td>3.564817</td>\n",
       "      <td>1.241777</td>\n",
       "    </tr>\n",
       "    <tr>\n",
       "      <th>min</th>\n",
       "      <td>0.000000</td>\n",
       "      <td>0.00000</td>\n",
       "      <td>0.000000</td>\n",
       "      <td>0.000000</td>\n",
       "      <td>0.000000</td>\n",
       "      <td>0.000000</td>\n",
       "      <td>0.000000</td>\n",
       "      <td>0.000000</td>\n",
       "      <td>18.000000</td>\n",
       "      <td>1.000000</td>\n",
       "    </tr>\n",
       "    <tr>\n",
       "      <th>25%</th>\n",
       "      <td>0.000000</td>\n",
       "      <td>5.00000</td>\n",
       "      <td>6.000000</td>\n",
       "      <td>6.000000</td>\n",
       "      <td>5.000000</td>\n",
       "      <td>6.000000</td>\n",
       "      <td>4.000000</td>\n",
       "      <td>5.000000</td>\n",
       "      <td>24.000000</td>\n",
       "      <td>2.000000</td>\n",
       "    </tr>\n",
       "    <tr>\n",
       "      <th>50%</th>\n",
       "      <td>0.000000</td>\n",
       "      <td>6.00000</td>\n",
       "      <td>7.000000</td>\n",
       "      <td>7.000000</td>\n",
       "      <td>7.000000</td>\n",
       "      <td>7.000000</td>\n",
       "      <td>6.000000</td>\n",
       "      <td>6.000000</td>\n",
       "      <td>26.000000</td>\n",
       "      <td>2.000000</td>\n",
       "    </tr>\n",
       "    <tr>\n",
       "      <th>75%</th>\n",
       "      <td>1.000000</td>\n",
       "      <td>8.00000</td>\n",
       "      <td>8.000000</td>\n",
       "      <td>8.000000</td>\n",
       "      <td>8.000000</td>\n",
       "      <td>8.000000</td>\n",
       "      <td>7.000000</td>\n",
       "      <td>7.000000</td>\n",
       "      <td>28.000000</td>\n",
       "      <td>4.000000</td>\n",
       "    </tr>\n",
       "    <tr>\n",
       "      <th>max</th>\n",
       "      <td>1.000000</td>\n",
       "      <td>10.00000</td>\n",
       "      <td>10.000000</td>\n",
       "      <td>10.000000</td>\n",
       "      <td>11.000000</td>\n",
       "      <td>10.000000</td>\n",
       "      <td>10.000000</td>\n",
       "      <td>10.000000</td>\n",
       "      <td>55.000000</td>\n",
       "      <td>6.000000</td>\n",
       "    </tr>\n",
       "  </tbody>\n",
       "</table>\n",
       "</div>"
      ],
      "text/plain": [
       "            Gender  Rating_Partner      Sincere  Intelligence   Fun_Loving  \\\n",
       "count  6936.000000      6936.00000  6936.000000   6936.000000  6936.000000   \n",
       "mean      0.492359         6.18417     7.164072      7.362457     6.393310   \n",
       "std       0.499978         1.94981     1.744919      1.560290     1.959211   \n",
       "min       0.000000         0.00000     0.000000      0.000000     0.000000   \n",
       "25%       0.000000         5.00000     6.000000      6.000000     5.000000   \n",
       "50%       0.000000         6.00000     7.000000      7.000000     7.000000   \n",
       "75%       1.000000         8.00000     8.000000      8.000000     8.000000   \n",
       "max       1.000000        10.00000    10.000000     10.000000    11.000000   \n",
       "\n",
       "         Ambitious      Sharing  Likeability          Age         Race  \n",
       "count  6936.000000  6936.000000  6936.000000  6936.000000  6936.000000  \n",
       "mean      6.758867     5.458261     6.125461    26.315311     2.769608  \n",
       "std       1.798500     2.148142     1.851470     3.564817     1.241777  \n",
       "min       0.000000     0.000000     0.000000    18.000000     1.000000  \n",
       "25%       6.000000     4.000000     5.000000    24.000000     2.000000  \n",
       "50%       7.000000     6.000000     6.000000    26.000000     2.000000  \n",
       "75%       8.000000     7.000000     7.000000    28.000000     4.000000  \n",
       "max      10.000000    10.000000    10.000000    55.000000     6.000000  "
      ]
     },
     "execution_count": 53,
     "metadata": {},
     "output_type": "execute_result"
    }
   ],
   "source": [
    "df.describe()"
   ]
  },
  {
   "cell_type": "code",
   "execution_count": 54,
   "metadata": {},
   "outputs": [],
   "source": [
    "#df.dropna(axis=0)"
   ]
  },
  {
   "cell_type": "code",
   "execution_count": 55,
   "metadata": {},
   "outputs": [],
   "source": [
    "#df.describe()"
   ]
  },
  {
   "cell_type": "code",
   "execution_count": 56,
   "metadata": {},
   "outputs": [],
   "source": [
    "#df1=df.groupby('Age')[['Place_Of_Origin']].count()"
   ]
  },
  {
   "cell_type": "code",
   "execution_count": 57,
   "metadata": {},
   "outputs": [],
   "source": [
    "#ax = df1.plot.bar(rot=0)"
   ]
  },
  {
   "cell_type": "code",
   "execution_count": 58,
   "metadata": {},
   "outputs": [],
   "source": [
    "#df.groupby('Age')[['Gender']].count()"
   ]
  },
  {
   "cell_type": "code",
   "execution_count": 59,
   "metadata": {},
   "outputs": [
    {
     "data": {
      "text/plain": [
       "Gender            False\n",
       "Rating_Partner    False\n",
       "Sincere           False\n",
       "Intelligence      False\n",
       "Fun_Loving        False\n",
       "Ambitious         False\n",
       "Sharing           False\n",
       "Likeability       False\n",
       "Age               False\n",
       "Race              False\n",
       "dtype: bool"
      ]
     },
     "execution_count": 59,
     "metadata": {},
     "output_type": "execute_result"
    }
   ],
   "source": [
    "df.isnull().any(axis=0)"
   ]
  },
  {
   "cell_type": "code",
   "execution_count": 60,
   "metadata": {},
   "outputs": [],
   "source": [
    "#target = df[\"Rating_Partner\"]\n",
    "#target_names =['class 0', 'class 1', 'class 2','class 3', 'class 4','class 5','class 6','class 7','class 8','class 9']"
   ]
  },
  {
   "cell_type": "code",
   "execution_count": 61,
   "metadata": {},
   "outputs": [],
   "source": [
    "data = df.drop(\"Rating_Partner\", axis=1)\n",
    "feature_names=data.columns\n",
    "#data.head()"
   ]
  },
  {
   "cell_type": "code",
   "execution_count": 62,
   "metadata": {},
   "outputs": [],
   "source": [
    "target = df[\"Rating_Partner\"]\n",
    "target_names =['Gender', 'Rating_Part', 'Sincere','Intelligence', 'Fun_Loving','Ambitious','Sharing','Likeability','Age','Race']"
   ]
  },
  {
   "cell_type": "code",
   "execution_count": 63,
   "metadata": {},
   "outputs": [],
   "source": [
    "from sklearn.model_selection import train_test_split\n",
    "X_train, X_test, y_train, y_test = train_test_split(data,target,random_state=42)"
   ]
  },
  {
   "cell_type": "code",
   "execution_count": 64,
   "metadata": {},
   "outputs": [],
   "source": [
    "#int(y_train)\n",
    "y_train=y_train.astype('int32')"
   ]
  },
  {
   "cell_type": "code",
   "execution_count": 65,
   "metadata": {},
   "outputs": [
    {
     "data": {
      "text/plain": [
       "SVC(C=1.0, cache_size=200, class_weight=None, coef0=0.0,\n",
       "    decision_function_shape='ovr', degree=3, gamma='auto_deprecated',\n",
       "    kernel='linear', max_iter=-1, probability=False, random_state=None,\n",
       "    shrinking=True, tol=0.001, verbose=False)"
      ]
     },
     "execution_count": 65,
     "metadata": {},
     "output_type": "execute_result"
    }
   ],
   "source": [
    "# Support Vector Machine Linear Classifier\n",
    "from sklearn.svm import SVC\n",
    "model = SVC(kernel='linear')\n",
    "model.fit(X_train, y_train)"
   ]
  },
  {
   "cell_type": "code",
   "execution_count": 66,
   "metadata": {},
   "outputs": [
    {
     "data": {
      "text/plain": [
       "SVC(C=1.0, cache_size=200, class_weight=None, coef0=0.0,\n",
       "    decision_function_shape='ovr', degree=3, gamma='auto', kernel='linear',\n",
       "    max_iter=-1, probability=False, random_state=None, shrinking=True,\n",
       "    tol=0.001, verbose=False)"
      ]
     },
     "execution_count": 66,
     "metadata": {},
     "output_type": "execute_result"
    }
   ],
   "source": [
    "SVC(C=1.0, cache_size=200, class_weight=None, coef0=0.0,\n",
    "   decision_function_shape='ovr',degree=3,gamma='auto',kernel='linear',\n",
    "   max_iter=-1, probability=False, random_state=None, shrinking=True,\n",
    "   tol=0.001, verbose=False)"
   ]
  },
  {
   "cell_type": "code",
   "execution_count": 67,
   "metadata": {},
   "outputs": [
    {
     "name": "stdout",
     "output_type": "stream",
     "text": [
      "Test Acc: 0.329\n"
     ]
    }
   ],
   "source": [
    "#model accuracy\n",
    "print('Test Acc: %.3f' %model.score(X_test,y_test))"
   ]
  },
  {
   "cell_type": "code",
   "execution_count": 68,
   "metadata": {},
   "outputs": [
    {
     "name": "stdout",
     "output_type": "stream",
     "text": [
      "              precision    recall  f1-score   support\n",
      "\n",
      "      Gender       0.38      0.44      0.41        25\n",
      " Rating_Part       0.00      0.00      0.00        54\n",
      "     Sincere       0.00      0.00      0.00        81\n",
      "Intelligence       0.15      0.02      0.04       141\n",
      "  Fun_Loving       0.25      0.40      0.31       273\n",
      "   Ambitious       0.39      0.45      0.42       380\n",
      "     Sharing       0.32      0.37      0.34       332\n",
      " Likeability       0.31      0.44      0.36       255\n",
      "         Age       0.00      0.00      0.00       120\n",
      "        Race       0.60      0.58      0.59        73\n",
      "\n",
      "    accuracy                           0.33      1734\n",
      "   macro avg       0.24      0.27      0.25      1734\n",
      "weighted avg       0.27      0.33      0.29      1734\n",
      "\n"
     ]
    },
    {
     "name": "stderr",
     "output_type": "stream",
     "text": [
      "/anaconda3/lib/python3.7/site-packages/sklearn/metrics/classification.py:1437: UndefinedMetricWarning: Precision and F-score are ill-defined and being set to 0.0 in labels with no predicted samples.\n",
      "  'precision', 'predicted', average, warn_for)\n"
     ]
    }
   ],
   "source": [
    "#Classification Report\n",
    "from sklearn.metrics import classification_report\n",
    "predictions=model.predict(X_test)\n",
    "print(classification_report(y_test, predictions, target_names=target_names))"
   ]
  },
  {
   "cell_type": "code",
   "execution_count": null,
   "metadata": {},
   "outputs": [],
   "source": []
  },
  {
   "cell_type": "code",
   "execution_count": null,
   "metadata": {},
   "outputs": [],
   "source": []
  }
 ],
 "metadata": {
  "kernelspec": {
   "display_name": "Python 3",
   "language": "python",
   "name": "python3"
  },
  "language_info": {
   "codemirror_mode": {
    "name": "ipython",
    "version": 3
   },
   "file_extension": ".py",
   "mimetype": "text/x-python",
   "name": "python",
   "nbconvert_exporter": "python",
   "pygments_lexer": "ipython3",
   "version": "3.7.3"
  }
 },
 "nbformat": 4,
 "nbformat_minor": 2
}
