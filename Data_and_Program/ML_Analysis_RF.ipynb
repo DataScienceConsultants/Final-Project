{
 "cells": [
  {
   "cell_type": "markdown",
   "metadata": {},
   "source": [
    "### FINAL PROJECT - JEN, THEA, SARATH, FRANCIS \n",
    "### --- DATING ANALYSIS ---\n",
    "### PREDICT WHETHER DATERS WANT TO MEET AGAIN"
   ]
  },
  {
   "cell_type": "code",
   "execution_count": 12,
   "metadata": {},
   "outputs": [
    {
     "name": "stdout",
     "output_type": "stream",
     "text": [
      "Populating the interactive namespace from numpy and matplotlib\n"
     ]
    }
   ],
   "source": [
    "import pandas as pd\n",
    "import numpy as np\n",
    "import matplotlib as plt\n",
    "import matplotlib.pyplot as pltt\n",
    "import seaborn as sns\n",
    "from xgboost import XGBClassifier\n",
    "\n",
    "from sklearn.model_selection import train_test_split, cross_val_score, GridSearchCV\n",
    "from sklearn.metrics import make_scorer, fbeta_score\n",
    "scorer = make_scorer(fbeta_score, beta=1.5)\n",
    "\n",
    "# Some warnings tend to pop up during grid search\n",
    "import warnings\n",
    "warnings.filterwarnings('ignore')\n",
    "\n",
    "%pylab inline"
   ]
  },
  {
   "cell_type": "code",
   "execution_count": 13,
   "metadata": {},
   "outputs": [
    {
     "name": "stdout",
     "output_type": "stream",
     "text": [
      "8378 observations and 195 features\n"
     ]
    }
   ],
   "source": [
    "data = pd.read_csv('Data/Speed_Dating_Data.csv', encoding='latin-1', engine=\"python\")\n",
    "\n",
    "print(data.shape[0], 'observations and', data.shape[1], 'features')"
   ]
  },
  {
   "cell_type": "code",
   "execution_count": 14,
   "metadata": {},
   "outputs": [
    {
     "data": {
      "text/plain": [
       "float64    174\n",
       "int64       13\n",
       "object       8\n",
       "dtype: int64"
      ]
     },
     "execution_count": 14,
     "metadata": {},
     "output_type": "execute_result"
    }
   ],
   "source": [
    "# What kind of data are we dealing with?\n",
    "data.dtypes.value_counts()"
   ]
  },
  {
   "cell_type": "code",
   "execution_count": 15,
   "metadata": {},
   "outputs": [
    {
     "data": {
      "text/plain": [
       "1.0    277\n",
       "0.0    274\n",
       "Name: gender, dtype: int64"
      ]
     },
     "execution_count": 15,
     "metadata": {},
     "output_type": "execute_result"
    }
   ],
   "source": [
    "# Men (1) and women (0)\n",
    "data.groupby('iid').mean().gender.value_counts()"
   ]
  },
  {
   "cell_type": "code",
   "execution_count": 16,
   "metadata": {},
   "outputs": [
    {
     "data": {
      "text/plain": [
       "0    0.835283\n",
       "1    0.164717\n",
       "Name: match, dtype: float64"
      ]
     },
     "execution_count": 16,
     "metadata": {},
     "output_type": "execute_result"
    }
   ],
   "source": [
    "# What percentage of pairs resulted in a match?\n",
    "data['match'].value_counts(normalize=True)"
   ]
  },
  {
   "cell_type": "code",
   "execution_count": 17,
   "metadata": {},
   "outputs": [
    {
     "data": {
      "text/html": [
       "<div>\n",
       "<style scoped>\n",
       "    .dataframe tbody tr th:only-of-type {\n",
       "        vertical-align: middle;\n",
       "    }\n",
       "\n",
       "    .dataframe tbody tr th {\n",
       "        vertical-align: top;\n",
       "    }\n",
       "\n",
       "    .dataframe thead th {\n",
       "        text-align: right;\n",
       "    }\n",
       "</style>\n",
       "<table border=\"1\" class=\"dataframe\">\n",
       "  <thead>\n",
       "    <tr style=\"text-align: right;\">\n",
       "      <th></th>\n",
       "      <th>iid</th>\n",
       "      <th>id</th>\n",
       "      <th>gender</th>\n",
       "      <th>idg</th>\n",
       "      <th>condtn</th>\n",
       "      <th>wave</th>\n",
       "      <th>round</th>\n",
       "      <th>position</th>\n",
       "      <th>positin1</th>\n",
       "      <th>order</th>\n",
       "      <th>...</th>\n",
       "      <th>attr3_3</th>\n",
       "      <th>sinc3_3</th>\n",
       "      <th>intel3_3</th>\n",
       "      <th>fun3_3</th>\n",
       "      <th>amb3_3</th>\n",
       "      <th>attr5_3</th>\n",
       "      <th>sinc5_3</th>\n",
       "      <th>intel5_3</th>\n",
       "      <th>fun5_3</th>\n",
       "      <th>amb5_3</th>\n",
       "    </tr>\n",
       "  </thead>\n",
       "  <tbody>\n",
       "    <tr>\n",
       "      <th>0</th>\n",
       "      <td>1</td>\n",
       "      <td>1.0</td>\n",
       "      <td>0</td>\n",
       "      <td>1</td>\n",
       "      <td>1</td>\n",
       "      <td>1</td>\n",
       "      <td>10</td>\n",
       "      <td>7</td>\n",
       "      <td>NaN</td>\n",
       "      <td>4</td>\n",
       "      <td>...</td>\n",
       "      <td>5.0</td>\n",
       "      <td>7.0</td>\n",
       "      <td>7.0</td>\n",
       "      <td>7.0</td>\n",
       "      <td>7.0</td>\n",
       "      <td>NaN</td>\n",
       "      <td>NaN</td>\n",
       "      <td>NaN</td>\n",
       "      <td>NaN</td>\n",
       "      <td>NaN</td>\n",
       "    </tr>\n",
       "    <tr>\n",
       "      <th>1</th>\n",
       "      <td>1</td>\n",
       "      <td>1.0</td>\n",
       "      <td>0</td>\n",
       "      <td>1</td>\n",
       "      <td>1</td>\n",
       "      <td>1</td>\n",
       "      <td>10</td>\n",
       "      <td>7</td>\n",
       "      <td>NaN</td>\n",
       "      <td>3</td>\n",
       "      <td>...</td>\n",
       "      <td>5.0</td>\n",
       "      <td>7.0</td>\n",
       "      <td>7.0</td>\n",
       "      <td>7.0</td>\n",
       "      <td>7.0</td>\n",
       "      <td>NaN</td>\n",
       "      <td>NaN</td>\n",
       "      <td>NaN</td>\n",
       "      <td>NaN</td>\n",
       "      <td>NaN</td>\n",
       "    </tr>\n",
       "    <tr>\n",
       "      <th>2</th>\n",
       "      <td>1</td>\n",
       "      <td>1.0</td>\n",
       "      <td>0</td>\n",
       "      <td>1</td>\n",
       "      <td>1</td>\n",
       "      <td>1</td>\n",
       "      <td>10</td>\n",
       "      <td>7</td>\n",
       "      <td>NaN</td>\n",
       "      <td>10</td>\n",
       "      <td>...</td>\n",
       "      <td>5.0</td>\n",
       "      <td>7.0</td>\n",
       "      <td>7.0</td>\n",
       "      <td>7.0</td>\n",
       "      <td>7.0</td>\n",
       "      <td>NaN</td>\n",
       "      <td>NaN</td>\n",
       "      <td>NaN</td>\n",
       "      <td>NaN</td>\n",
       "      <td>NaN</td>\n",
       "    </tr>\n",
       "    <tr>\n",
       "      <th>3</th>\n",
       "      <td>1</td>\n",
       "      <td>1.0</td>\n",
       "      <td>0</td>\n",
       "      <td>1</td>\n",
       "      <td>1</td>\n",
       "      <td>1</td>\n",
       "      <td>10</td>\n",
       "      <td>7</td>\n",
       "      <td>NaN</td>\n",
       "      <td>5</td>\n",
       "      <td>...</td>\n",
       "      <td>5.0</td>\n",
       "      <td>7.0</td>\n",
       "      <td>7.0</td>\n",
       "      <td>7.0</td>\n",
       "      <td>7.0</td>\n",
       "      <td>NaN</td>\n",
       "      <td>NaN</td>\n",
       "      <td>NaN</td>\n",
       "      <td>NaN</td>\n",
       "      <td>NaN</td>\n",
       "    </tr>\n",
       "    <tr>\n",
       "      <th>4</th>\n",
       "      <td>1</td>\n",
       "      <td>1.0</td>\n",
       "      <td>0</td>\n",
       "      <td>1</td>\n",
       "      <td>1</td>\n",
       "      <td>1</td>\n",
       "      <td>10</td>\n",
       "      <td>7</td>\n",
       "      <td>NaN</td>\n",
       "      <td>7</td>\n",
       "      <td>...</td>\n",
       "      <td>5.0</td>\n",
       "      <td>7.0</td>\n",
       "      <td>7.0</td>\n",
       "      <td>7.0</td>\n",
       "      <td>7.0</td>\n",
       "      <td>NaN</td>\n",
       "      <td>NaN</td>\n",
       "      <td>NaN</td>\n",
       "      <td>NaN</td>\n",
       "      <td>NaN</td>\n",
       "    </tr>\n",
       "  </tbody>\n",
       "</table>\n",
       "<p>5 rows × 195 columns</p>\n",
       "</div>"
      ],
      "text/plain": [
       "   iid   id  gender  idg  condtn  wave  round  position  positin1  order  ...  \\\n",
       "0    1  1.0       0    1       1     1     10         7       NaN      4  ...   \n",
       "1    1  1.0       0    1       1     1     10         7       NaN      3  ...   \n",
       "2    1  1.0       0    1       1     1     10         7       NaN     10  ...   \n",
       "3    1  1.0       0    1       1     1     10         7       NaN      5  ...   \n",
       "4    1  1.0       0    1       1     1     10         7       NaN      7  ...   \n",
       "\n",
       "   attr3_3  sinc3_3  intel3_3  fun3_3  amb3_3  attr5_3  sinc5_3  intel5_3  \\\n",
       "0      5.0      7.0       7.0     7.0     7.0      NaN      NaN       NaN   \n",
       "1      5.0      7.0       7.0     7.0     7.0      NaN      NaN       NaN   \n",
       "2      5.0      7.0       7.0     7.0     7.0      NaN      NaN       NaN   \n",
       "3      5.0      7.0       7.0     7.0     7.0      NaN      NaN       NaN   \n",
       "4      5.0      7.0       7.0     7.0     7.0      NaN      NaN       NaN   \n",
       "\n",
       "   fun5_3  amb5_3  \n",
       "0     NaN     NaN  \n",
       "1     NaN     NaN  \n",
       "2     NaN     NaN  \n",
       "3     NaN     NaN  \n",
       "4     NaN     NaN  \n",
       "\n",
       "[5 rows x 195 columns]"
      ]
     },
     "execution_count": 17,
     "metadata": {},
     "output_type": "execute_result"
    }
   ],
   "source": [
    "data.head()"
   ]
  },
  {
   "cell_type": "code",
   "execution_count": 18,
   "metadata": {},
   "outputs": [],
   "source": [
    "# Waves 6-11 rated importance, others allocated 100 points\n",
    "points = (data.wave != 6 ) &\\\n",
    "    (data.wave != 7 ) &\\\n",
    "    (data.wave != 8 ) &\\\n",
    "    (data.wave != 9 ) &\\\n",
    "    (data.wave != 10 ) &\\\n",
    "    (data.wave != 11 )\n",
    "\n",
    "data = data[points]"
   ]
  },
  {
   "cell_type": "code",
   "execution_count": 19,
   "metadata": {},
   "outputs": [],
   "source": [
    "info = ['attr_o','sinc_o','intel_o','fun_o','amb_o','shar_o','like_o','race','pid','dec_o',\n",
    "        'gender','age', 'pf_o_att','pf_o_sin','pf_o_int','pf_o_fun','pf_o_amb','pf_o_sha','go_out',\n",
    "        'sports', 'tvsports', 'exercise', 'dining', 'museums',\n",
    " 'art', 'hiking', 'gaming', 'clubbing', 'reading', 'tv', 'theater',\n",
    " 'movies', 'concerts', 'music', 'shopping', 'yoga','match']\n",
    "df = data[info]\n"
   ]
  },
  {
   "cell_type": "code",
   "execution_count": 20,
   "metadata": {},
   "outputs": [],
   "source": [
    "df.fillna(0)\n",
    "df = df[np.isfinite(df).all(1)]"
   ]
  },
  {
   "cell_type": "code",
   "execution_count": 21,
   "metadata": {},
   "outputs": [
    {
     "data": {
      "text/plain": [
       "match       0\n",
       "pf_o_sha    0\n",
       "pf_o_fun    0\n",
       "pf_o_int    0\n",
       "pf_o_sin    0\n",
       "pf_o_att    0\n",
       "age         0\n",
       "gender      0\n",
       "dec_o       0\n",
       "pid         0\n",
       "dtype: int64"
      ]
     },
     "execution_count": 21,
     "metadata": {},
     "output_type": "execute_result"
    }
   ],
   "source": [
    "# Just a sample of how much missing data we have.\n",
    "df.isnull().sum().sort_values(ascending=False)[:10]"
   ]
  },
  {
   "cell_type": "code",
   "execution_count": 22,
   "metadata": {},
   "outputs": [
    {
     "name": "stdout",
     "output_type": "stream",
     "text": [
      "(4639, 34) (4639, 1)\n"
     ]
    }
   ],
   "source": [
    "X = df[['attr_o','sinc_o','intel_o','fun_o','amb_o','shar_o','race','dec_o','gender','age', 'pf_o_att','pf_o_sin','pf_o_int','pf_o_fun','pf_o_amb','pf_o_sha','go_out', 'sports', 'tvsports', 'exercise', 'dining', 'museums',\n",
    " 'art', 'hiking', 'gaming', 'clubbing', 'reading', 'tv', 'theater',\n",
    " 'movies', 'concerts', 'music', 'shopping', 'yoga']]\n",
    "y = df['like_o'].values.reshape(-1,1)\n",
    "print(X.shape, y.shape)"
   ]
  },
  {
   "cell_type": "code",
   "execution_count": 23,
   "metadata": {},
   "outputs": [
    {
     "name": "stdout",
     "output_type": "stream",
     "text": [
      "      attr_o  sinc_o  intel_o  fun_o  amb_o  shar_o  race  dec_o  gender  \\\n",
      "0        6.0     8.0      8.0    8.0    8.0     6.0   4.0      0       0   \n",
      "1        7.0     8.0     10.0    7.0    7.0     5.0   4.0      0       0   \n",
      "2       10.0    10.0     10.0   10.0   10.0    10.0   4.0      1       0   \n",
      "3        7.0     8.0      9.0    8.0    9.0     8.0   4.0      1       0   \n",
      "4        8.0     7.0      9.0    6.0    9.0     7.0   4.0      1       0   \n",
      "5        7.0     7.0      8.0    8.0    7.0     7.0   4.0      1       0   \n",
      "6        3.0     6.0      7.0    5.0    8.0     7.0   4.0      0       0   \n",
      "7        6.0     7.0      5.0    6.0    8.0     6.0   4.0      0       0   \n",
      "8        7.0     7.0      8.0    8.0    8.0     9.0   4.0      1       0   \n",
      "9        6.0     6.0      6.0    6.0    6.0     6.0   4.0      0       0   \n",
      "10       8.0     7.0      6.0    9.0    7.0     4.0   2.0      0       0   \n",
      "11       7.0     6.0     10.0    6.0    6.0     5.0   2.0      0       0   \n",
      "12      10.0    10.0     10.0   10.0   10.0    10.0   2.0      1       0   \n",
      "13       9.0     9.0      9.0    9.0    9.0     9.0   2.0      1       0   \n",
      "14      10.0    10.0     10.0   10.0    7.0     8.0   2.0      1       0   \n",
      "15       7.0     8.0      7.0    5.0    7.0     7.0   2.0      1       0   \n",
      "16       5.0     3.0      4.0    3.0    5.0     3.0   2.0      0       0   \n",
      "17       7.0     7.0      7.0    7.0    7.0     5.0   2.0      1       0   \n",
      "18       8.0     6.0      9.0    9.0    8.0     7.0   2.0      1       0   \n",
      "19       6.0     5.0      7.0    7.0    9.0     7.0   2.0      0       0   \n",
      "20       7.0     8.0      6.0    5.0    8.0     4.0   2.0      0       0   \n",
      "21       6.0     7.0     10.0    6.0    6.0     5.0   2.0      0       0   \n",
      "22      10.0    10.0     10.0   10.0   10.0    10.0   2.0      1       0   \n",
      "23       7.0     9.0      8.0    8.0    8.0     8.0   2.0      1       0   \n",
      "25       7.0     6.0      6.0    6.0    6.0     6.0   2.0      1       0   \n",
      "26       6.0     3.0      5.0    4.0    5.0     4.0   2.0      0       0   \n",
      "27       4.0     5.0      6.0    4.0    6.0     4.0   2.0      0       0   \n",
      "28       7.0     7.0      6.0    8.0    7.0     7.0   2.0      1       0   \n",
      "29       5.0     6.0      8.0    5.0    8.0     6.0   2.0      0       0   \n",
      "30       6.0     7.0      8.0    7.0    7.0     5.0   2.0      0       0   \n",
      "...      ...     ...      ...    ...    ...     ...   ...    ...     ...   \n",
      "8339     8.0     9.0      8.0    7.0    6.0     5.0   1.0      1       1   \n",
      "8341     7.0     8.0      7.0    7.0    7.0     8.0   1.0      1       1   \n",
      "8342     3.0     4.0      4.0    2.0    5.0     1.0   1.0      0       1   \n",
      "8345     7.0     4.0      4.0    4.0    4.0     4.0   1.0      0       1   \n",
      "8346     9.0     8.0      8.0    8.0    8.0     7.0   1.0      1       1   \n",
      "8347     3.0     9.0      7.0    3.0    5.0     3.0   1.0      0       1   \n",
      "8348     8.0     5.0      7.0   10.0    7.0     8.0   1.0      1       1   \n",
      "8349     6.0     9.0      8.0    6.0    7.0     7.0   1.0      1       1   \n",
      "8350     8.0     8.0      9.0    7.0    8.0     7.0   1.0      1       1   \n",
      "8351    10.0     5.0      8.0    6.0    9.0     8.0   1.0      1       1   \n",
      "8352     7.0     7.0      8.0    8.0    8.0     4.0   1.0      0       1   \n",
      "8354     5.0     7.0      5.0    4.0    4.0     4.0   1.0      1       1   \n",
      "8355     6.0     8.0      7.0    6.0    6.0     6.0   1.0      0       1   \n",
      "8358     6.0     3.0      5.0    3.0    3.0     3.0   2.0      1       1   \n",
      "8360     7.0     6.0      7.0    7.0    6.0     6.0   2.0      1       1   \n",
      "8361    10.0     7.0      5.0    5.0    5.0     9.0   2.0      1       1   \n",
      "8362     7.0     7.0      8.0    7.0    7.0     7.0   2.0      1       1   \n",
      "8363     7.0     7.0      7.0    8.0    7.0     8.0   2.0      1       1   \n",
      "8364     6.0     5.0      4.0    3.0    6.0     5.0   2.0      0       1   \n",
      "8365     8.0     7.0      6.0    7.0    7.0     2.0   2.0      1       1   \n",
      "8367     6.0     6.0      6.0    6.0    6.0     6.0   2.0      0       1   \n",
      "8368     9.0     7.0      7.0    8.0    8.0     6.0   2.0      1       1   \n",
      "8369     8.0     9.0      9.0    7.0    6.0     7.0   2.0      1       1   \n",
      "8370     7.0     2.0      6.0    5.0    8.0     3.0   2.0      1       1   \n",
      "8371     8.0     6.0      7.0    7.0    6.0     4.0   2.0      1       1   \n",
      "8372     8.0     8.0      7.0    7.0    8.0     6.0   2.0      0       1   \n",
      "8373    10.0     5.0      3.0    2.0    6.0     5.0   2.0      1       1   \n",
      "8374     6.0     3.0      7.0    3.0    7.0     2.0   2.0      0       1   \n",
      "8376     5.0     7.0      5.0    5.0    3.0     6.0   2.0      1       1   \n",
      "8377     8.0     8.0      7.0    7.0    7.0     7.0   2.0      1       1   \n",
      "\n",
      "       age  ...  gaming  clubbing  reading   tv  theater  movies  concerts  \\\n",
      "0     21.0  ...     1.0       5.0      6.0  9.0      1.0    10.0      10.0   \n",
      "1     21.0  ...     1.0       5.0      6.0  9.0      1.0    10.0      10.0   \n",
      "2     21.0  ...     1.0       5.0      6.0  9.0      1.0    10.0      10.0   \n",
      "3     21.0  ...     1.0       5.0      6.0  9.0      1.0    10.0      10.0   \n",
      "4     21.0  ...     1.0       5.0      6.0  9.0      1.0    10.0      10.0   \n",
      "5     21.0  ...     1.0       5.0      6.0  9.0      1.0    10.0      10.0   \n",
      "6     21.0  ...     1.0       5.0      6.0  9.0      1.0    10.0      10.0   \n",
      "7     21.0  ...     1.0       5.0      6.0  9.0      1.0    10.0      10.0   \n",
      "8     21.0  ...     1.0       5.0      6.0  9.0      1.0    10.0      10.0   \n",
      "9     21.0  ...     1.0       5.0      6.0  9.0      1.0    10.0      10.0   \n",
      "10    24.0  ...     5.0       8.0     10.0  1.0      9.0     8.0       7.0   \n",
      "11    24.0  ...     5.0       8.0     10.0  1.0      9.0     8.0       7.0   \n",
      "12    24.0  ...     5.0       8.0     10.0  1.0      9.0     8.0       7.0   \n",
      "13    24.0  ...     5.0       8.0     10.0  1.0      9.0     8.0       7.0   \n",
      "14    24.0  ...     5.0       8.0     10.0  1.0      9.0     8.0       7.0   \n",
      "15    24.0  ...     5.0       8.0     10.0  1.0      9.0     8.0       7.0   \n",
      "16    24.0  ...     5.0       8.0     10.0  1.0      9.0     8.0       7.0   \n",
      "17    24.0  ...     5.0       8.0     10.0  1.0      9.0     8.0       7.0   \n",
      "18    24.0  ...     5.0       8.0     10.0  1.0      9.0     8.0       7.0   \n",
      "19    24.0  ...     5.0       8.0     10.0  1.0      9.0     8.0       7.0   \n",
      "20    25.0  ...     4.0       5.0      7.0  8.0      7.0     7.0       7.0   \n",
      "21    25.0  ...     4.0       5.0      7.0  8.0      7.0     7.0       7.0   \n",
      "22    25.0  ...     4.0       5.0      7.0  8.0      7.0     7.0       7.0   \n",
      "23    25.0  ...     4.0       5.0      7.0  8.0      7.0     7.0       7.0   \n",
      "25    25.0  ...     4.0       5.0      7.0  8.0      7.0     7.0       7.0   \n",
      "26    25.0  ...     4.0       5.0      7.0  8.0      7.0     7.0       7.0   \n",
      "27    25.0  ...     4.0       5.0      7.0  8.0      7.0     7.0       7.0   \n",
      "28    25.0  ...     4.0       5.0      7.0  8.0      7.0     7.0       7.0   \n",
      "29    25.0  ...     4.0       5.0      7.0  8.0      7.0     7.0       7.0   \n",
      "30    23.0  ...     5.0       7.0      7.0  7.0      9.0     7.0       8.0   \n",
      "...    ...  ...     ...       ...      ...  ...      ...     ...       ...   \n",
      "8339  27.0  ...     1.0       7.0     10.0  2.0      5.0     6.0       7.0   \n",
      "8341  27.0  ...     1.0       7.0     10.0  2.0      5.0     6.0       7.0   \n",
      "8342  27.0  ...     1.0       7.0     10.0  2.0      5.0     6.0       7.0   \n",
      "8345  27.0  ...     1.0       7.0     10.0  2.0      5.0     6.0       7.0   \n",
      "8346  27.0  ...     1.0       7.0     10.0  2.0      5.0     6.0       7.0   \n",
      "8347  27.0  ...     1.0       7.0     10.0  2.0      5.0     6.0       7.0   \n",
      "8348  27.0  ...     1.0       7.0     10.0  2.0      5.0     6.0       7.0   \n",
      "8349  27.0  ...     1.0       7.0     10.0  2.0      5.0     6.0       7.0   \n",
      "8350  27.0  ...     1.0       7.0     10.0  2.0      5.0     6.0       7.0   \n",
      "8351  27.0  ...     1.0       7.0     10.0  2.0      5.0     6.0       7.0   \n",
      "8352  27.0  ...     1.0       7.0     10.0  2.0      5.0     6.0       7.0   \n",
      "8354  27.0  ...     1.0       7.0     10.0  2.0      5.0     6.0       7.0   \n",
      "8355  27.0  ...     1.0       7.0     10.0  2.0      5.0     6.0       7.0   \n",
      "8358  25.0  ...     1.0       9.0      8.0  3.0      7.0     9.0      10.0   \n",
      "8360  25.0  ...     1.0       9.0      8.0  3.0      7.0     9.0      10.0   \n",
      "8361  25.0  ...     1.0       9.0      8.0  3.0      7.0     9.0      10.0   \n",
      "8362  25.0  ...     1.0       9.0      8.0  3.0      7.0     9.0      10.0   \n",
      "8363  25.0  ...     1.0       9.0      8.0  3.0      7.0     9.0      10.0   \n",
      "8364  25.0  ...     1.0       9.0      8.0  3.0      7.0     9.0      10.0   \n",
      "8365  25.0  ...     1.0       9.0      8.0  3.0      7.0     9.0      10.0   \n",
      "8367  25.0  ...     1.0       9.0      8.0  3.0      7.0     9.0      10.0   \n",
      "8368  25.0  ...     1.0       9.0      8.0  3.0      7.0     9.0      10.0   \n",
      "8369  25.0  ...     1.0       9.0      8.0  3.0      7.0     9.0      10.0   \n",
      "8370  25.0  ...     1.0       9.0      8.0  3.0      7.0     9.0      10.0   \n",
      "8371  25.0  ...     1.0       9.0      8.0  3.0      7.0     9.0      10.0   \n",
      "8372  25.0  ...     1.0       9.0      8.0  3.0      7.0     9.0      10.0   \n",
      "8373  25.0  ...     1.0       9.0      8.0  3.0      7.0     9.0      10.0   \n",
      "8374  25.0  ...     1.0       9.0      8.0  3.0      7.0     9.0      10.0   \n",
      "8376  25.0  ...     1.0       9.0      8.0  3.0      7.0     9.0      10.0   \n",
      "8377  25.0  ...     1.0       9.0      8.0  3.0      7.0     9.0      10.0   \n",
      "\n",
      "      music  shopping  yoga  \n",
      "0       9.0       8.0   1.0  \n",
      "1       9.0       8.0   1.0  \n",
      "2       9.0       8.0   1.0  \n",
      "3       9.0       8.0   1.0  \n",
      "4       9.0       8.0   1.0  \n",
      "5       9.0       8.0   1.0  \n",
      "6       9.0       8.0   1.0  \n",
      "7       9.0       8.0   1.0  \n",
      "8       9.0       8.0   1.0  \n",
      "9       9.0       8.0   1.0  \n",
      "10      8.0       3.0   1.0  \n",
      "11      8.0       3.0   1.0  \n",
      "12      8.0       3.0   1.0  \n",
      "13      8.0       3.0   1.0  \n",
      "14      8.0       3.0   1.0  \n",
      "15      8.0       3.0   1.0  \n",
      "16      8.0       3.0   1.0  \n",
      "17      8.0       3.0   1.0  \n",
      "18      8.0       3.0   1.0  \n",
      "19      8.0       3.0   1.0  \n",
      "20      5.0       8.0   7.0  \n",
      "21      5.0       8.0   7.0  \n",
      "22      5.0       8.0   7.0  \n",
      "23      5.0       8.0   7.0  \n",
      "25      5.0       8.0   7.0  \n",
      "26      5.0       8.0   7.0  \n",
      "27      5.0       8.0   7.0  \n",
      "28      5.0       8.0   7.0  \n",
      "29      5.0       8.0   7.0  \n",
      "30      7.0       1.0   8.0  \n",
      "...     ...       ...   ...  \n",
      "8339    7.0       7.0   1.0  \n",
      "8341    7.0       7.0   1.0  \n",
      "8342    7.0       7.0   1.0  \n",
      "8345    7.0       7.0   1.0  \n",
      "8346    7.0       7.0   1.0  \n",
      "8347    7.0       7.0   1.0  \n",
      "8348    7.0       7.0   1.0  \n",
      "8349    7.0       7.0   1.0  \n",
      "8350    7.0       7.0   1.0  \n",
      "8351    7.0       7.0   1.0  \n",
      "8352    7.0       7.0   1.0  \n",
      "8354    7.0       7.0   1.0  \n",
      "8355    7.0       7.0   1.0  \n",
      "8358   10.0       7.0   3.0  \n",
      "8360   10.0       7.0   3.0  \n",
      "8361   10.0       7.0   3.0  \n",
      "8362   10.0       7.0   3.0  \n",
      "8363   10.0       7.0   3.0  \n",
      "8364   10.0       7.0   3.0  \n",
      "8365   10.0       7.0   3.0  \n",
      "8367   10.0       7.0   3.0  \n",
      "8368   10.0       7.0   3.0  \n",
      "8369   10.0       7.0   3.0  \n",
      "8370   10.0       7.0   3.0  \n",
      "8371   10.0       7.0   3.0  \n",
      "8372   10.0       7.0   3.0  \n",
      "8373   10.0       7.0   3.0  \n",
      "8374   10.0       7.0   3.0  \n",
      "8376   10.0       7.0   3.0  \n",
      "8377   10.0       7.0   3.0  \n",
      "\n",
      "[4639 rows x 34 columns]\n"
     ]
    }
   ],
   "source": [
    "print(X)"
   ]
  },
  {
   "cell_type": "code",
   "execution_count": 24,
   "metadata": {},
   "outputs": [
    {
     "data": {
      "text/plain": [
       "0.9514779465540049"
      ]
     },
     "execution_count": 24,
     "metadata": {},
     "output_type": "execute_result"
    }
   ],
   "source": [
    "from sklearn.ensemble import RandomForestRegressor\n",
    "rf = RandomForestRegressor(n_estimators=200)\n",
    "rf = rf.fit(X, y)\n",
    "rf.score(X, y)\n"
   ]
  },
  {
   "cell_type": "code",
   "execution_count": 25,
   "metadata": {},
   "outputs": [
    {
     "data": {
      "text/plain": [
       "array([0.15123724, 0.03226871, 0.02466175, 0.31839436, 0.01522344,\n",
       "       0.16332692, 0.00611486, 0.02820897, 0.00257848, 0.01338452,\n",
       "       0.01471777, 0.01464727, 0.01614182, 0.01215188, 0.01270987,\n",
       "       0.01296185, 0.00673442, 0.0091534 , 0.00975707, 0.00983061,\n",
       "       0.0086204 , 0.00751171, 0.00738648, 0.01033327, 0.0111024 ,\n",
       "       0.01043718, 0.00946623, 0.00997433, 0.00800023, 0.00703792,\n",
       "       0.0079798 , 0.00820863, 0.00942428, 0.01031196])"
      ]
     },
     "execution_count": 25,
     "metadata": {},
     "output_type": "execute_result"
    }
   ],
   "source": [
    "importances = rf.feature_importances_\n",
    "importances"
   ]
  },
  {
   "cell_type": "code",
   "execution_count": 26,
   "metadata": {},
   "outputs": [
    {
     "data": {
      "text/plain": [
       "[(0.3183943567401887, 'fun_o'),\n",
       " (0.16332692318560973, 'shar_o'),\n",
       " (0.15123724080034134, 'attr_o'),\n",
       " (0.032268709148599584, 'sinc_o'),\n",
       " (0.0282089691618708, 'race'),\n",
       " (0.024661748421618092, 'intel_o'),\n",
       " (0.016141815982781367, 'pf_o_att'),\n",
       " (0.015223438427282729, 'amb_o'),\n",
       " (0.014717771782531343, 'gender'),\n",
       " (0.014647270000086915, 'age'),\n",
       " (0.013384516432992955, 'dec_o'),\n",
       " (0.012961846175897011, 'pf_o_fun'),\n",
       " (0.012709873752756675, 'pf_o_int'),\n",
       " (0.012151880288951755, 'pf_o_sin'),\n",
       " (0.011102397828780666, 'art'),\n",
       " (0.010437179100371225, 'hiking'),\n",
       " (0.010333274151887966, 'museums'),\n",
       " (0.010311962901723997, 'music'),\n",
       " (0.009974327218871756, 'clubbing'),\n",
       " (0.009830607808695725, 'sports'),\n",
       " (0.009757071900725087, 'go_out'),\n",
       " (0.009466226351372923, 'gaming'),\n",
       " (0.00942427517247108, 'concerts'),\n",
       " (0.009153399236798263, 'pf_o_sha'),\n",
       " (0.008620404164475019, 'tvsports'),\n",
       " (0.00820863310396622, 'movies'),\n",
       " (0.008000229274359286, 'reading'),\n",
       " (0.007979796659641198, 'theater'),\n",
       " (0.007511705299301011, 'exercise'),\n",
       " (0.007386475753779531, 'dining'),\n",
       " (0.007037922613318478, 'tv'),\n",
       " (0.006734419016716814, 'pf_o_amb'),\n",
       " (0.006114855949127966, 'like_o'),\n",
       " (0.0025784761921071276, 'pid')]"
      ]
     },
     "execution_count": 26,
     "metadata": {},
     "output_type": "execute_result"
    }
   ],
   "source": [
    "sorted(zip(rf.feature_importances_, df.columns), reverse=True)"
   ]
  },
  {
   "cell_type": "code",
   "execution_count": 32,
   "metadata": {},
   "outputs": [
    {
     "name": "stdout",
     "output_type": "stream",
     "text": [
      "Column is not a string!\n",
      "Column is not a string!\n",
      "Column is not a string!\n",
      "Column is not a string!\n"
     ]
    }
   ],
   "source": [
    "def fix_numeric(col, data=data, median=False):\n",
    "    try:\n",
    "        data[col] = data[col].str.replace(',', '')\n",
    "    except:\n",
    "        print('Column is not a string!')\n",
    "    \n",
    "    data[col] = data[col].astype(float)\n",
    " \n",
    "    \n",
    "    \n",
    "\n",
    "    data[col] = data[col].fillna(0)\n",
    "    \n",
    "\n",
    "    return data\n",
    "\n",
    "\n",
    "\n",
    "for i in 'zipcode mn_sat tuition income'.split():\n",
    "    data = fix_numeric(i)"
   ]
  },
  {
   "cell_type": "code",
   "execution_count": 33,
   "metadata": {
    "scrolled": true
   },
   "outputs": [
    {
     "data": {
      "text/plain": [
       "float64    178\n",
       "int64       13\n",
       "object       4\n",
       "dtype: int64"
      ]
     },
     "execution_count": 33,
     "metadata": {},
     "output_type": "execute_result"
    }
   ],
   "source": [
    "data.dtypes.value_counts()"
   ]
  },
  {
   "cell_type": "code",
   "execution_count": 36,
   "metadata": {},
   "outputs": [
    {
     "data": {
      "text/html": [
       "<div>\n",
       "<style scoped>\n",
       "    .dataframe tbody tr th:only-of-type {\n",
       "        vertical-align: middle;\n",
       "    }\n",
       "\n",
       "    .dataframe tbody tr th {\n",
       "        vertical-align: top;\n",
       "    }\n",
       "\n",
       "    .dataframe thead th {\n",
       "        text-align: right;\n",
       "    }\n",
       "</style>\n",
       "<table border=\"1\" class=\"dataframe\">\n",
       "  <thead>\n",
       "    <tr style=\"text-align: right;\">\n",
       "      <th></th>\n",
       "      <th>iid</th>\n",
       "      <th>id</th>\n",
       "      <th>gender</th>\n",
       "      <th>idg</th>\n",
       "      <th>condtn</th>\n",
       "      <th>wave</th>\n",
       "      <th>round</th>\n",
       "      <th>position</th>\n",
       "      <th>positin1</th>\n",
       "      <th>order</th>\n",
       "      <th>...</th>\n",
       "      <th>attr3_3</th>\n",
       "      <th>sinc3_3</th>\n",
       "      <th>intel3_3</th>\n",
       "      <th>fun3_3</th>\n",
       "      <th>amb3_3</th>\n",
       "      <th>attr5_3</th>\n",
       "      <th>sinc5_3</th>\n",
       "      <th>intel5_3</th>\n",
       "      <th>fun5_3</th>\n",
       "      <th>amb5_3</th>\n",
       "    </tr>\n",
       "  </thead>\n",
       "  <tbody>\n",
       "    <tr>\n",
       "      <th>0</th>\n",
       "      <td>1</td>\n",
       "      <td>1.0</td>\n",
       "      <td>0</td>\n",
       "      <td>1</td>\n",
       "      <td>1</td>\n",
       "      <td>1</td>\n",
       "      <td>10</td>\n",
       "      <td>7</td>\n",
       "      <td>NaN</td>\n",
       "      <td>4</td>\n",
       "      <td>...</td>\n",
       "      <td>5.0</td>\n",
       "      <td>7.0</td>\n",
       "      <td>7.0</td>\n",
       "      <td>7.0</td>\n",
       "      <td>7.0</td>\n",
       "      <td>NaN</td>\n",
       "      <td>NaN</td>\n",
       "      <td>NaN</td>\n",
       "      <td>NaN</td>\n",
       "      <td>NaN</td>\n",
       "    </tr>\n",
       "    <tr>\n",
       "      <th>1</th>\n",
       "      <td>1</td>\n",
       "      <td>1.0</td>\n",
       "      <td>0</td>\n",
       "      <td>1</td>\n",
       "      <td>1</td>\n",
       "      <td>1</td>\n",
       "      <td>10</td>\n",
       "      <td>7</td>\n",
       "      <td>NaN</td>\n",
       "      <td>3</td>\n",
       "      <td>...</td>\n",
       "      <td>5.0</td>\n",
       "      <td>7.0</td>\n",
       "      <td>7.0</td>\n",
       "      <td>7.0</td>\n",
       "      <td>7.0</td>\n",
       "      <td>NaN</td>\n",
       "      <td>NaN</td>\n",
       "      <td>NaN</td>\n",
       "      <td>NaN</td>\n",
       "      <td>NaN</td>\n",
       "    </tr>\n",
       "    <tr>\n",
       "      <th>2</th>\n",
       "      <td>1</td>\n",
       "      <td>1.0</td>\n",
       "      <td>0</td>\n",
       "      <td>1</td>\n",
       "      <td>1</td>\n",
       "      <td>1</td>\n",
       "      <td>10</td>\n",
       "      <td>7</td>\n",
       "      <td>NaN</td>\n",
       "      <td>10</td>\n",
       "      <td>...</td>\n",
       "      <td>5.0</td>\n",
       "      <td>7.0</td>\n",
       "      <td>7.0</td>\n",
       "      <td>7.0</td>\n",
       "      <td>7.0</td>\n",
       "      <td>NaN</td>\n",
       "      <td>NaN</td>\n",
       "      <td>NaN</td>\n",
       "      <td>NaN</td>\n",
       "      <td>NaN</td>\n",
       "    </tr>\n",
       "    <tr>\n",
       "      <th>3</th>\n",
       "      <td>1</td>\n",
       "      <td>1.0</td>\n",
       "      <td>0</td>\n",
       "      <td>1</td>\n",
       "      <td>1</td>\n",
       "      <td>1</td>\n",
       "      <td>10</td>\n",
       "      <td>7</td>\n",
       "      <td>NaN</td>\n",
       "      <td>5</td>\n",
       "      <td>...</td>\n",
       "      <td>5.0</td>\n",
       "      <td>7.0</td>\n",
       "      <td>7.0</td>\n",
       "      <td>7.0</td>\n",
       "      <td>7.0</td>\n",
       "      <td>NaN</td>\n",
       "      <td>NaN</td>\n",
       "      <td>NaN</td>\n",
       "      <td>NaN</td>\n",
       "      <td>NaN</td>\n",
       "    </tr>\n",
       "    <tr>\n",
       "      <th>4</th>\n",
       "      <td>1</td>\n",
       "      <td>1.0</td>\n",
       "      <td>0</td>\n",
       "      <td>1</td>\n",
       "      <td>1</td>\n",
       "      <td>1</td>\n",
       "      <td>10</td>\n",
       "      <td>7</td>\n",
       "      <td>NaN</td>\n",
       "      <td>7</td>\n",
       "      <td>...</td>\n",
       "      <td>5.0</td>\n",
       "      <td>7.0</td>\n",
       "      <td>7.0</td>\n",
       "      <td>7.0</td>\n",
       "      <td>7.0</td>\n",
       "      <td>NaN</td>\n",
       "      <td>NaN</td>\n",
       "      <td>NaN</td>\n",
       "      <td>NaN</td>\n",
       "      <td>NaN</td>\n",
       "    </tr>\n",
       "  </tbody>\n",
       "</table>\n",
       "<p>5 rows × 195 columns</p>\n",
       "</div>"
      ],
      "text/plain": [
       "   iid   id  gender  idg  condtn  wave  round  position  positin1  order  ...  \\\n",
       "0    1  1.0       0    1       1     1     10         7       NaN      4  ...   \n",
       "1    1  1.0       0    1       1     1     10         7       NaN      3  ...   \n",
       "2    1  1.0       0    1       1     1     10         7       NaN     10  ...   \n",
       "3    1  1.0       0    1       1     1     10         7       NaN      5  ...   \n",
       "4    1  1.0       0    1       1     1     10         7       NaN      7  ...   \n",
       "\n",
       "   attr3_3  sinc3_3  intel3_3  fun3_3  amb3_3  attr5_3  sinc5_3  intel5_3  \\\n",
       "0      5.0      7.0       7.0     7.0     7.0      NaN      NaN       NaN   \n",
       "1      5.0      7.0       7.0     7.0     7.0      NaN      NaN       NaN   \n",
       "2      5.0      7.0       7.0     7.0     7.0      NaN      NaN       NaN   \n",
       "3      5.0      7.0       7.0     7.0     7.0      NaN      NaN       NaN   \n",
       "4      5.0      7.0       7.0     7.0     7.0      NaN      NaN       NaN   \n",
       "\n",
       "   fun5_3  amb5_3  \n",
       "0     NaN     NaN  \n",
       "1     NaN     NaN  \n",
       "2     NaN     NaN  \n",
       "3     NaN     NaN  \n",
       "4     NaN     NaN  \n",
       "\n",
       "[5 rows x 195 columns]"
      ]
     },
     "execution_count": 36,
     "metadata": {},
     "output_type": "execute_result"
    }
   ],
   "source": [
    "data.head()"
   ]
  },
  {
   "cell_type": "code",
   "execution_count": 37,
   "metadata": {},
   "outputs": [
    {
     "data": {
      "text/html": [
       "<div>\n",
       "<style scoped>\n",
       "    .dataframe tbody tr th:only-of-type {\n",
       "        vertical-align: middle;\n",
       "    }\n",
       "\n",
       "    .dataframe tbody tr th {\n",
       "        vertical-align: top;\n",
       "    }\n",
       "\n",
       "    .dataframe thead th {\n",
       "        text-align: right;\n",
       "    }\n",
       "</style>\n",
       "<table border=\"1\" class=\"dataframe\">\n",
       "  <thead>\n",
       "    <tr style=\"text-align: right;\">\n",
       "      <th></th>\n",
       "      <th>iid</th>\n",
       "      <th>id</th>\n",
       "      <th>gender</th>\n",
       "      <th>idg</th>\n",
       "      <th>condtn</th>\n",
       "      <th>wave</th>\n",
       "      <th>round</th>\n",
       "      <th>position</th>\n",
       "      <th>positin1</th>\n",
       "      <th>order</th>\n",
       "      <th>...</th>\n",
       "      <th>attr3_3</th>\n",
       "      <th>sinc3_3</th>\n",
       "      <th>intel3_3</th>\n",
       "      <th>fun3_3</th>\n",
       "      <th>amb3_3</th>\n",
       "      <th>attr5_3</th>\n",
       "      <th>sinc5_3</th>\n",
       "      <th>intel5_3</th>\n",
       "      <th>fun5_3</th>\n",
       "      <th>amb5_3</th>\n",
       "    </tr>\n",
       "  </thead>\n",
       "  <tbody>\n",
       "    <tr>\n",
       "      <th>0</th>\n",
       "      <td>1</td>\n",
       "      <td>1.0</td>\n",
       "      <td>0</td>\n",
       "      <td>1</td>\n",
       "      <td>1</td>\n",
       "      <td>1</td>\n",
       "      <td>10</td>\n",
       "      <td>7</td>\n",
       "      <td>0.0</td>\n",
       "      <td>4</td>\n",
       "      <td>...</td>\n",
       "      <td>5.0</td>\n",
       "      <td>7.0</td>\n",
       "      <td>7.0</td>\n",
       "      <td>7.0</td>\n",
       "      <td>7.0</td>\n",
       "      <td>0.0</td>\n",
       "      <td>0.0</td>\n",
       "      <td>0.0</td>\n",
       "      <td>0.0</td>\n",
       "      <td>0.0</td>\n",
       "    </tr>\n",
       "    <tr>\n",
       "      <th>1</th>\n",
       "      <td>1</td>\n",
       "      <td>1.0</td>\n",
       "      <td>0</td>\n",
       "      <td>1</td>\n",
       "      <td>1</td>\n",
       "      <td>1</td>\n",
       "      <td>10</td>\n",
       "      <td>7</td>\n",
       "      <td>0.0</td>\n",
       "      <td>3</td>\n",
       "      <td>...</td>\n",
       "      <td>5.0</td>\n",
       "      <td>7.0</td>\n",
       "      <td>7.0</td>\n",
       "      <td>7.0</td>\n",
       "      <td>7.0</td>\n",
       "      <td>0.0</td>\n",
       "      <td>0.0</td>\n",
       "      <td>0.0</td>\n",
       "      <td>0.0</td>\n",
       "      <td>0.0</td>\n",
       "    </tr>\n",
       "    <tr>\n",
       "      <th>2</th>\n",
       "      <td>1</td>\n",
       "      <td>1.0</td>\n",
       "      <td>0</td>\n",
       "      <td>1</td>\n",
       "      <td>1</td>\n",
       "      <td>1</td>\n",
       "      <td>10</td>\n",
       "      <td>7</td>\n",
       "      <td>0.0</td>\n",
       "      <td>10</td>\n",
       "      <td>...</td>\n",
       "      <td>5.0</td>\n",
       "      <td>7.0</td>\n",
       "      <td>7.0</td>\n",
       "      <td>7.0</td>\n",
       "      <td>7.0</td>\n",
       "      <td>0.0</td>\n",
       "      <td>0.0</td>\n",
       "      <td>0.0</td>\n",
       "      <td>0.0</td>\n",
       "      <td>0.0</td>\n",
       "    </tr>\n",
       "    <tr>\n",
       "      <th>3</th>\n",
       "      <td>1</td>\n",
       "      <td>1.0</td>\n",
       "      <td>0</td>\n",
       "      <td>1</td>\n",
       "      <td>1</td>\n",
       "      <td>1</td>\n",
       "      <td>10</td>\n",
       "      <td>7</td>\n",
       "      <td>0.0</td>\n",
       "      <td>5</td>\n",
       "      <td>...</td>\n",
       "      <td>5.0</td>\n",
       "      <td>7.0</td>\n",
       "      <td>7.0</td>\n",
       "      <td>7.0</td>\n",
       "      <td>7.0</td>\n",
       "      <td>0.0</td>\n",
       "      <td>0.0</td>\n",
       "      <td>0.0</td>\n",
       "      <td>0.0</td>\n",
       "      <td>0.0</td>\n",
       "    </tr>\n",
       "    <tr>\n",
       "      <th>4</th>\n",
       "      <td>1</td>\n",
       "      <td>1.0</td>\n",
       "      <td>0</td>\n",
       "      <td>1</td>\n",
       "      <td>1</td>\n",
       "      <td>1</td>\n",
       "      <td>10</td>\n",
       "      <td>7</td>\n",
       "      <td>0.0</td>\n",
       "      <td>7</td>\n",
       "      <td>...</td>\n",
       "      <td>5.0</td>\n",
       "      <td>7.0</td>\n",
       "      <td>7.0</td>\n",
       "      <td>7.0</td>\n",
       "      <td>7.0</td>\n",
       "      <td>0.0</td>\n",
       "      <td>0.0</td>\n",
       "      <td>0.0</td>\n",
       "      <td>0.0</td>\n",
       "      <td>0.0</td>\n",
       "    </tr>\n",
       "  </tbody>\n",
       "</table>\n",
       "<p>5 rows × 195 columns</p>\n",
       "</div>"
      ],
      "text/plain": [
       "   iid   id  gender  idg  condtn  wave  round  position  positin1  order  ...  \\\n",
       "0    1  1.0       0    1       1     1     10         7       0.0      4  ...   \n",
       "1    1  1.0       0    1       1     1     10         7       0.0      3  ...   \n",
       "2    1  1.0       0    1       1     1     10         7       0.0     10  ...   \n",
       "3    1  1.0       0    1       1     1     10         7       0.0      5  ...   \n",
       "4    1  1.0       0    1       1     1     10         7       0.0      7  ...   \n",
       "\n",
       "   attr3_3  sinc3_3  intel3_3  fun3_3  amb3_3  attr5_3  sinc5_3  intel5_3  \\\n",
       "0      5.0      7.0       7.0     7.0     7.0      0.0      0.0       0.0   \n",
       "1      5.0      7.0       7.0     7.0     7.0      0.0      0.0       0.0   \n",
       "2      5.0      7.0       7.0     7.0     7.0      0.0      0.0       0.0   \n",
       "3      5.0      7.0       7.0     7.0     7.0      0.0      0.0       0.0   \n",
       "4      5.0      7.0       7.0     7.0     7.0      0.0      0.0       0.0   \n",
       "\n",
       "   fun5_3  amb5_3  \n",
       "0     0.0     0.0  \n",
       "1     0.0     0.0  \n",
       "2     0.0     0.0  \n",
       "3     0.0     0.0  \n",
       "4     0.0     0.0  \n",
       "\n",
       "[5 rows x 195 columns]"
      ]
     },
     "execution_count": 37,
     "metadata": {},
     "output_type": "execute_result"
    }
   ],
   "source": [
    "data.fillna(0).head()\n"
   ]
  },
  {
   "cell_type": "code",
   "execution_count": 38,
   "metadata": {},
   "outputs": [
    {
     "name": "stdout",
     "output_type": "stream",
     "text": [
      "Naive Benchmark: 0.395128896198807\n"
     ]
    }
   ],
   "source": [
    "#Benchmark, dummy predictor\n",
    "from sklearn.dummy import DummyClassifier\n",
    "\n",
    "data_benchmark = pd.get_dummies(data)\n",
    "data_benchmark.fillna(data_benchmark.median(), inplace=True)\n",
    "\n",
    "xbench = data_benchmark.drop('match', axis=1)\n",
    "ybench = data_benchmark['match']\n",
    "\n",
    "dum = DummyClassifier(strategy='constant', constant=1)\n",
    "\n",
    "cvs = cross_val_score(dum, xbench, ybench, scoring=scorer, cv=5)\n",
    "\n",
    "benchmark_score = cvs.mean()\n",
    "\n",
    "print('Naive Benchmark:', benchmark_score)"
   ]
  },
  {
   "cell_type": "code",
   "execution_count": 39,
   "metadata": {},
   "outputs": [],
   "source": [
    "def get_partner_data(pid, col):\n",
    "    '''Looks up the person's partner and adds their data\n",
    "    as new features. If the partner ID doesn't exist,\n",
    "    returns a -1.'''\n",
    "    try:\n",
    "        partner = data[data['iid'] == pid].head(1)[col].iloc[0]\n",
    "        if partner:\n",
    "            return partner\n",
    "        else:\n",
    "            return -1\n",
    "    except:\n",
    "        return -1"
   ]
  },
  {
   "cell_type": "code",
   "execution_count": 40,
   "metadata": {},
   "outputs": [],
   "source": [
    "\n",
    "# Age\n",
    "data['age'].fillna(data['age'].median(), inplace=True)\n",
    "data['age_o'].fillna(data['age_o'].median(), inplace=True)\n",
    "data['age_difference'] = data['age'] - data['age_o']\n",
    "\n",
    "# Attractiveness\n",
    "data['partner_attractiveness'] = data['pid'].apply(get_partner_data, col='attr3_1')\n",
    "data['attr_expectations'] = (10*data['attr1_1']/data['attr1_1'].max()) -\\\n",
    "                                     data['partner_attractiveness']\n",
    "data['partner_attractiveness_2'] = data['pid'].apply(get_partner_data, col='attr5_1')\n",
    "data['attr_expectations_2'] = (10*data['attr1_1']/data['attr1_1'].max()) -\\\n",
    "                                       data['partner_attractiveness_2']\n",
    "\n",
    "# Intelligence\n",
    "data['partner_intelligence'] = data['pid'].apply(get_partner_data, col='intel3_1')\n",
    "data['intel_expectations'] = (10*data['intel1_1']/data['intel1_1'].max()) -\\\n",
    "                                     data['partner_intelligence']\n",
    "data['partner_intelligence_2'] = data['pid'].apply(get_partner_data, col='intel5_1')\n",
    "data['intel_expectations_2'] = (10*data['intel1_1']/data['intel1_1'].max()) -\\\n",
    "                                       data['partner_intelligence_2']\n",
    "\n",
    "# Fun\n",
    "data['partner_fun'] = data['pid'].apply(get_partner_data, col='fun3_1')\n",
    "data['fun_expectations'] = (10*data['fun1_1']/data['fun1_1'].max()) -\\\n",
    "                                     data['partner_fun']\n",
    "data['partner_fun_2'] = data['pid'].apply(get_partner_data, col='fun5_1')\n",
    "data['fun_expectations_2'] = (10*data['fun1_1']/data['fun1_1'].max()) -\\\n",
    "                                       data['partner_fun_2']\n",
    "\n",
    "# Ambitious\n",
    "data['partner_ambition'] = data['pid'].apply(get_partner_data, col='amb3_1')\n",
    "data['amb_expectations'] = (10*data['amb1_1']/data['amb1_1'].max()) -\\\n",
    "                                     data['partner_ambition']\n",
    "data['partner_ambition_2'] = data['pid'].apply(get_partner_data, col='amb5_1')\n",
    "data['amb_expectations_2'] = (10*data['amb1_1']/data['amb1_1'].max()) -\\\n",
    "                                       data['partner_ambition_2']\n",
    "\n",
    "# Sincerity\n",
    "data['partner_sincerity'] = data['pid'].apply(get_partner_data, col='sinc3_1')\n",
    "data['sinc_expectations'] = (10*data['sinc1_1']/data['sinc1_1'].max()) -\\\n",
    "                                     data['partner_sincerity']\n",
    "data['partner_sincerity_2'] = data['pid'].apply(get_partner_data, col='sinc5_1')\n",
    "data['sinc_expectations_2'] = (10*data['sinc1_1']/data['sinc1_1'].max()) -\\\n",
    "                                       data['partner_sincerity_2']"
   ]
  },
  {
   "cell_type": "code",
   "execution_count": 41,
   "metadata": {},
   "outputs": [],
   "source": [
    "#Measuring Expectations\n",
    "# Measuring expectations one more way\n",
    "\n",
    "data['attr_above_avg'] = np.where(data['partner_attractiveness'] > data['partner_attractiveness'].mean(),\n",
    "                                  1, 0)\n",
    "data['attr_imp_above_avg']= np.where(data['attr1_1'] > data['attr1_1'].mean(),\n",
    "                                     1, 0)\n",
    "data['attr_match'] = np.where(data['attr_above_avg'] >= data['attr_imp_above_avg'],\n",
    "                             1, 0)\n",
    "\n",
    "data['sinc_above_avg'] = np.where(data['partner_sincerity'] > data['partner_sincerity'].mean(),\n",
    "                                  1, 0)\n",
    "data['sinc_imp_above_avg']= np.where(data['sinc1_1'] > data['sinc1_1'].mean(),\n",
    "                                     1, 0)\n",
    "data['sinc_match'] = np.where(data['sinc_above_avg'] >= data['sinc_imp_above_avg'],\n",
    "                             1, 0)\n",
    "\n",
    "data['int_above_avg'] = np.where(data['partner_intelligence'] > data['partner_intelligence'].mean(),\n",
    "                                  1, 0)\n",
    "data['int_imp_above_avg']= np.where(data['intel1_1'] > data['intel1_1'].mean(),\n",
    "                                     1, 0)\n",
    "data['int_match'] = np.where(data['int_above_avg'] >= data['int_imp_above_avg'],\n",
    "                             1, 0)\n",
    "\n",
    "data['fun_above_avg'] = np.where(data['partner_fun'] > data['partner_fun'].mean(),\n",
    "                                  1, 0)\n",
    "data['fun_imp_above_avg']= np.where(data['fun1_1'] > data['fun1_1'].mean(),\n",
    "                                     1, 0)\n",
    "data['fun_match'] = np.where(data['fun_above_avg'] >= data['fun_imp_above_avg'],\n",
    "                             1, 0)"
   ]
  },
  {
   "cell_type": "code",
   "execution_count": 42,
   "metadata": {},
   "outputs": [],
   "source": [
    "#Hobbies\n",
    "hobbies = ['go_out', 'sports', 'tvsports', 'exercise', 'dining', 'museums',\n",
    " 'art', 'hiking', 'gaming', 'clubbing', 'reading', 'tv', 'theater',\n",
    " 'movies', 'concerts', 'music', 'shopping', 'yoga']\n",
    "\n",
    "for i in hobbies:\n",
    "    data['partner_' + i] = data['pid'].apply(get_partner_data, col=i)\n",
    "    data[i + '_in_common'] = np.where((data[i] > 7) & (data['partner_' + i] > 7), 1, 0)\n",
    "    del data['partner_' + i]"
   ]
  },
  {
   "cell_type": "code",
   "execution_count": 49,
   "metadata": {},
   "outputs": [],
   "source": [
    "df1=data.dropna(axis=1)"
   ]
  },
  {
   "cell_type": "code",
   "execution_count": 50,
   "metadata": {},
   "outputs": [],
   "source": [
    "#Remove dummies when one person has 1\n",
    "\n",
    "#****Remove # to delete data after running first time\n",
    "counts =\\\n",
    "by_iid = df1.groupby('iid').mean().sum(axis=0).sort_values()\n"
   ]
  },
  {
   "cell_type": "code",
   "execution_count": 51,
   "metadata": {},
   "outputs": [],
   "source": [
    "deleted = []\n",
    "\n",
    "for i in counts[counts < 2].index:\n",
    "    if 'dummy_' in i:\n",
    "        deleted.append(i)\n",
    "       # del data[i]\n",
    "\n",
    "# Fix anything that got counted twice\n",
    "for i in df.columns:\n",
    "    if 'dummy_' in i:\n",
    "        df1[i] = np.where(df1[i] >= 1, 1, 0)"
   ]
  },
  {
   "cell_type": "code",
   "execution_count": 52,
   "metadata": {},
   "outputs": [
    {
     "name": "stdout",
     "output_type": "stream",
     "text": [
      "Deleted: 0\n",
      "Data shape: (5772, 50)\n"
     ]
    }
   ],
   "source": [
    "# Nearly 500 features removed. Not bad!\n",
    "print('Deleted:', len(deleted))\n",
    "print('Data shape:', df1.shape)"
   ]
  },
  {
   "cell_type": "code",
   "execution_count": 53,
   "metadata": {},
   "outputs": [
    {
     "name": "stdout",
     "output_type": "stream",
     "text": [
      "Data shape: (5772, 50)\n"
     ]
    }
   ],
   "source": [
    "print('Data shape:', df1.shape)"
   ]
  },
  {
   "cell_type": "code",
   "execution_count": 54,
   "metadata": {},
   "outputs": [],
   "source": [
    "# Checkpoint\n",
    "df1.to_csv('Speed Dating Data RF.csv')"
   ]
  },
  {
   "cell_type": "code",
   "execution_count": 55,
   "metadata": {},
   "outputs": [
    {
     "data": {
      "text/plain": [
       "Text(0.5, 1.0, 'Importance of attractiveness vs. ambition in men and women')"
      ]
     },
     "execution_count": 55,
     "metadata": {},
     "output_type": "execute_result"
    },
    {
     "data": {
      "image/png": "[encoded data removed]",
      "text/plain": [
       "<Figure size 403.5x360 with 1 Axes>"
      ]
     },
     "metadata": {
      "needs_background": "light"
     },
     "output_type": "display_data"
    }
   ],
   "source": [
    "###Visualizations\n",
    "sns.lmplot(\"attr1_1\", \"amb1_1\",\n",
    "           data=data, hue='gender', fit_reg=False,\n",
    "           x_jitter=5, y_jitter=5,\n",
    "           palette=['magenta', 'blue'],\n",
    "           scatter_kws={'alpha':.05})\n",
    "plt.title('Importance of attractiveness vs. ambition in men and women')"
   ]
  },
  {
   "cell_type": "code",
   "execution_count": 56,
   "metadata": {},
   "outputs": [
    {
     "data": {
      "text/plain": [
       "Text(0.5, 0, 'Age')"
      ]
     },
     "execution_count": 56,
     "metadata": {},
     "output_type": "execute_result"
    },
    {
     "data": {
      "image/png": "[encoded data removed]",
      "text/plain": [
       "<Figure size 432x288 with 1 Axes>"
      ]
     },
     "metadata": {
      "needs_background": "light"
     },
     "output_type": "display_data"
    }
   ],
   "source": [
    "sns.kdeplot(data[data.gender == 1].age,\n",
    "            bw=1.5, shade=True, color='blue', label='men')\n",
    "sns.kdeplot(data[data.gender == 0].age,\n",
    "            bw=1.5, shade=True, color='magenta', label='women')\n",
    "plt.title('Age of daters')\n",
    "plt.xlabel('Age')"
   ]
  },
  {
   "cell_type": "code",
   "execution_count": 57,
   "metadata": {},
   "outputs": [
    {
     "data": {
      "text/plain": [
       "(4617, 49)"
      ]
     },
     "execution_count": 57,
     "metadata": {},
     "output_type": "execute_result"
    }
   ],
   "source": [
    "#Gridsearch\n",
    "from sklearn.model_selection import train_test_split, GridSearchCV\n",
    "\n",
    "x = df1.drop('match', axis=1)\n",
    "y = df1['match']\n",
    "\n",
    "# Fixing a csv import bug\n",
    "for i in x.columns:\n",
    "    if 'Unnamed' in i:\n",
    "        del x[i]\n",
    "\n",
    "xtrain, xtest, ytrain, ytest = train_test_split(x, y, test_size=.2)\n",
    "\n",
    "xtrain.shape"
   ]
  },
  {
   "cell_type": "code",
   "execution_count": 58,
   "metadata": {},
   "outputs": [
    {
     "name": "stdout",
     "output_type": "stream",
     "text": [
      "KNeighborsClassifier(algorithm='auto', leaf_size=30, metric='minkowski',\n",
      "           metric_params=None, n_jobs=None, n_neighbors=1, p=2,\n",
      "           weights='uniform') \n",
      "\n",
      "Mean score: 0.2529229995778443\n",
      "Std Dev:    0.04953142867950721\n"
     ]
    }
   ],
   "source": [
    "#Using K-Neighbor Classifier\n",
    "from sklearn.neighbors import KNeighborsClassifier\n",
    "\n",
    "clf = KNeighborsClassifier()\n",
    "params = {'n_neighbors': np.arange(1,9,2)}\n",
    "grid = GridSearchCV(clf, param_grid=params, cv=4, scoring=scorer).fit(xtrain, ytrain)\n",
    "clf = grid.best_estimator_\n",
    "\n",
    "cv = cross_val_score(clf, xtrain, ytrain, cv=4, scoring=scorer)\n",
    "\n",
    "print(clf, '\\n')\n",
    "print('Mean score:', cv.mean())\n",
    "print('Std Dev:   ', cv.std())"
   ]
  },
  {
   "cell_type": "code",
   "execution_count": 59,
   "metadata": {},
   "outputs": [
    {
     "name": "stdout",
     "output_type": "stream",
     "text": [
      "Mean score: 0.0018603319977103607\n",
      "Std Dev:    0.0032221895389804535\n"
     ]
    }
   ],
   "source": [
    "from sklearn.naive_bayes import GaussianNB\n",
    "\n",
    "clf = GaussianNB()\n",
    "\n",
    "cv = cross_val_score(clf, xtrain, ytrain, cv=4, scoring=scorer)\n",
    "\n",
    "print('Mean score:', cv.mean())\n",
    "print('Std Dev:   ', cv.std())"
   ]
  },
  {
   "cell_type": "code",
   "execution_count": 60,
   "metadata": {},
   "outputs": [
    {
     "name": "stdout",
     "output_type": "stream",
     "text": [
      "LogisticRegression(C=1, class_weight=None, dual=False, fit_intercept=True,\n",
      "          intercept_scaling=1, max_iter=100, multi_class='warn',\n",
      "          n_jobs=None, penalty='l1', random_state=None, solver='warn',\n",
      "          tol=0.0001, verbose=0, warm_start=False) \n",
      "\n",
      "Mean score: 1.0\n",
      "Std Dev:    0.0\n"
     ]
    }
   ],
   "source": [
    "from sklearn.linear_model import LogisticRegression\n",
    "\n",
    "clf = LogisticRegression()\n",
    "params = {'penalty': ['l1', 'l2'],\n",
    "         'C': [.1, 1, 10, 100]}\n",
    "grid = GridSearchCV(clf, param_grid=params, cv=4, scoring=scorer).fit(xtrain, ytrain)\n",
    "clf = grid.best_estimator_\n",
    "\n",
    "cv = cross_val_score(clf, xtrain, ytrain, cv=4, scoring=scorer)\n",
    "\n",
    "print(clf, '\\n')\n",
    "print('Mean score:', cv.mean())\n",
    "print('Std Dev:   ', cv.std())"
   ]
  },
  {
   "cell_type": "code",
   "execution_count": 61,
   "metadata": {},
   "outputs": [
    {
     "name": "stdout",
     "output_type": "stream",
     "text": [
      "DecisionTreeClassifier(class_weight=None, criterion='gini', max_depth=2,\n",
      "            max_features=None, max_leaf_nodes=None,\n",
      "            min_impurity_decrease=0.0, min_impurity_split=None,\n",
      "            min_samples_leaf=1, min_samples_split=2,\n",
      "            min_weight_fraction_leaf=0.0, presort=False, random_state=None,\n",
      "            splitter='best') \n",
      "\n",
      "Mean score: 1.0\n",
      "Std Dev:    0.0\n"
     ]
    }
   ],
   "source": [
    "from sklearn.tree import DecisionTreeClassifier\n",
    "\n",
    "clf = DecisionTreeClassifier()\n",
    "params = {'max_depth': list(np.arange(2,13)) + [None],\n",
    "         'min_samples_leaf': [1,2,3,4,5,6,7,10]}\n",
    "grid = GridSearchCV(clf, param_grid=params, cv=4, scoring=scorer).fit(xtrain, ytrain)\n",
    "clf = grid.best_estimator_\n",
    "\n",
    "cv = cross_val_score(clf, xtrain, ytrain, cv=4, scoring=scorer)\n",
    "\n",
    "print(clf, '\\n')\n",
    "print('Mean score:', cv.mean())\n",
    "print('Std Dev:   ', cv.std())"
   ]
  },
  {
   "cell_type": "code",
   "execution_count": 62,
   "metadata": {},
   "outputs": [
    {
     "name": "stdout",
     "output_type": "stream",
     "text": [
      "RandomForestClassifier(bootstrap=True, class_weight=None, criterion='gini',\n",
      "            max_depth=8, max_features='auto', max_leaf_nodes=None,\n",
      "            min_impurity_decrease=0.0, min_impurity_split=None,\n",
      "            min_samples_leaf=1, min_samples_split=2,\n",
      "            min_weight_fraction_leaf=0.0, n_estimators=100, n_jobs=None,\n",
      "            oob_score=False, random_state=None, verbose=0,\n",
      "            warm_start=False) \n",
      "\n",
      "Mean score: 1.0\n",
      "Std Dev:    0.0\n"
     ]
    }
   ],
   "source": [
    "from sklearn.ensemble import RandomForestClassifier\n",
    "\n",
    "clf = RandomForestClassifier()\n",
    "params = {'max_depth': list(np.arange(3,10)) + [None],\n",
    "         'min_samples_leaf': [1,2,3],\n",
    "         'n_estimators': [10,100]}\n",
    "grid = GridSearchCV(clf, param_grid=params, cv=4, scoring=scorer).fit(xtrain, ytrain)\n",
    "clf = grid.best_estimator_\n",
    "\n",
    "cv = cross_val_score(clf, xtrain, ytrain, cv=4, scoring=scorer)\n",
    "\n",
    "print(clf, '\\n')\n",
    "print('Mean score:', cv.mean())\n",
    "print('Std Dev:   ', cv.std())"
   ]
  },
  {
   "cell_type": "code",
   "execution_count": 63,
   "metadata": {},
   "outputs": [
    {
     "data": {
      "text/plain": [
       "(5772, 50)"
      ]
     },
     "execution_count": 63,
     "metadata": {},
     "output_type": "execute_result"
    }
   ],
   "source": [
    "# Some Stackoverflow code to fix duplicate column names AGAIN\n",
    "cols = pd.Series(df1.columns)\n",
    "\n",
    "for dup in df1.columns.get_duplicates():\n",
    "    cols[df1.columns.get_loc(dup)] =\\\n",
    "    [dup+'.'+str(d_idx) if d_idx!=0 else dup for d_idx in range(df1.columns.get_loc(dup).sum())]\n",
    "\n",
    "df1.columns = cols\n",
    "\n",
    "df1.shape"
   ]
  },
  {
   "cell_type": "code",
   "execution_count": 64,
   "metadata": {},
   "outputs": [
    {
     "name": "stdout",
     "output_type": "stream",
     "text": [
      "XGBClassifier(base_score=0.42, booster='gbtree', colsample_bylevel=1,\n",
      "       colsample_bynode=1, colsample_bytree=1, gamma=0, gpu_id=-1,\n",
      "       learning_rate=0.1, max_delta_step=0, max_depth=3,\n",
      "       min_child_weight=1, missing=None, n_estimators=100, n_jobs=1,\n",
      "       objective='binary:logistic', random_state=0, reg_alpha=0,\n",
      "       reg_lambda=1, scale_pos_weight=1, subsample=1, tree_method='auto',\n",
      "       verbosity=1) \n",
      "\n",
      "Mean score: 1.0\n",
      "Std Dev:    0.0\n"
     ]
    }
   ],
   "source": [
    "from xgboost import XGBClassifier\n",
    "\n",
    "\n",
    "clf = XGBClassifier()\n",
    "params = {'max_depth': list(np.arange(3,10)) + [100],\n",
    "         'base_score': np.arange(.42,.52,.01),\n",
    "         'n_estimators': [100]}\n",
    "grid = GridSearchCV(clf, param_grid=params, cv=4, scoring=scorer).fit(xtrain, ytrain)\n",
    "clf = grid.best_estimator_\n",
    "\n",
    "cv = cross_val_score(clf, xtrain, ytrain, cv=4, scoring=scorer)\n",
    "\n",
    "print(clf, '\\n')\n",
    "print('Mean score:', cv.mean())\n",
    "print('Std Dev:   ', cv.std())"
   ]
  },
  {
   "cell_type": "code",
   "execution_count": 65,
   "metadata": {},
   "outputs": [
    {
     "name": "stdout",
     "output_type": "stream",
     "text": [
      "XGBClassifier(base_score=0.4, booster='gbtree', colsample_bylevel=1,\n",
      "       colsample_bynode=1, colsample_bytree=1, gamma=0, gpu_id=-1,\n",
      "       learning_rate=0.1, max_delta_step=0, max_depth=9,\n",
      "       min_child_weight=1, missing=None, n_estimators=100, n_jobs=1,\n",
      "       objective='binary:logistic', random_state=0, reg_alpha=0,\n",
      "       reg_lambda=1, scale_pos_weight=1, subsample=1, tree_method='auto',\n",
      "       verbosity=1) \n",
      "\n",
      "Mean score: 1.0\n",
      "Std Dev:    0.0\n"
     ]
    }
   ],
   "source": [
    "from xgboost import XGBClassifier\n",
    "\n",
    "clf = XGBClassifier()\n",
    "params = {'max_depth': [9],\n",
    "         'base_score': np.arange(.40,.45,.007),\n",
    "         'n_estimators': [100]}\n",
    "grid = GridSearchCV(clf, param_grid=params, cv=4, scoring=scorer).fit(xtrain, ytrain)\n",
    "clf = grid.best_estimator_\n",
    "\n",
    "cv = cross_val_score(clf, xtrain, ytrain, cv=4, scoring=scorer)\n",
    "\n",
    "print(clf, '\\n')\n",
    "print('Mean score:', cv.mean())\n",
    "print('Std Dev:   ', cv.std())"
   ]
  },
  {
   "cell_type": "code",
   "execution_count": 66,
   "metadata": {},
   "outputs": [],
   "source": [
    "#Dimensionality Reduction & Grid Search\n",
    "\n",
    "from sklearn.pipeline import Pipeline, make_pipeline\n",
    "from sklearn.feature_selection import SelectPercentile\n",
    "from sklearn.model_selection import GridSearchCV, train_test_split\n",
    "\n",
    "pl = Pipeline([\n",
    "    ('reduce_dim', SelectPercentile()),\n",
    "    ('classify', XGBClassifier())\n",
    "])\n",
    "\n",
    "# Recall that I've run this notebook multiple times\n",
    "# and did a MUCH more exhaustive search previously.\n",
    "PERC_OPTIONS = np.arange(44,58,2) # It consistently settles on a value around 50-55\n",
    "EST_OPTIONS = [400] # Best setting I found; we'll only use this to save time\n",
    "DEPTH_OPTIONS = [6,7,8,9]\n",
    "\n",
    "param_grid = [\n",
    "    {\n",
    "        'reduce_dim__percentile': PERC_OPTIONS,\n",
    "        'classify__n_estimators': EST_OPTIONS,\n",
    "        'classify__max_depth': DEPTH_OPTIONS,\n",
    "    },\n",
    "]\n",
    "\n",
    "grid =\\\n",
    "GridSearchCV(pl, cv=3, n_jobs=1, param_grid=param_grid, scoring=scorer)\\\n",
    ".fit(xtrain, ytrain)\n",
    "\n",
    "model = grid.best_estimator_"
   ]
  },
  {
   "cell_type": "code",
   "execution_count": 67,
   "metadata": {},
   "outputs": [
    {
     "data": {
      "text/plain": [
       "XGBClassifier(base_score=0.5, booster='gbtree', colsample_bylevel=1,\n",
       "       colsample_bynode=1, colsample_bytree=1, gamma=0, gpu_id=-1,\n",
       "       learning_rate=0.1, max_delta_step=0, max_depth=6,\n",
       "       min_child_weight=1, missing=None, n_estimators=400, n_jobs=1,\n",
       "       objective='binary:logistic', random_state=0, reg_alpha=0,\n",
       "       reg_lambda=1, scale_pos_weight=1, subsample=1, tree_method='auto',\n",
       "       verbosity=1)"
      ]
     },
     "execution_count": 67,
     "metadata": {},
     "output_type": "execute_result"
    }
   ],
   "source": [
    "model.named_steps['classify']"
   ]
  },
  {
   "cell_type": "code",
   "execution_count": 68,
   "metadata": {},
   "outputs": [
    {
     "data": {
      "text/plain": [
       "SelectPercentile(percentile=44,\n",
       "         score_func=<function f_classif at 0x1c23b48d90>)"
      ]
     },
     "execution_count": 68,
     "metadata": {},
     "output_type": "execute_result"
    }
   ],
   "source": [
    "model.named_steps['reduce_dim']"
   ]
  },
  {
   "cell_type": "code",
   "execution_count": 69,
   "metadata": {},
   "outputs": [
    {
     "name": "stdout",
     "output_type": "stream",
     "text": [
      "Mean score: 1.0\n",
      "Std Dev:    0.0\n"
     ]
    }
   ],
   "source": [
    "cv = cross_val_score(model, xtrain, ytrain, cv=4, scoring=scorer)\n",
    "\n",
    "print('Mean score:', cv.mean())\n",
    "print('Std Dev:   ', cv.std())"
   ]
  },
  {
   "cell_type": "code",
   "execution_count": 70,
   "metadata": {},
   "outputs": [],
   "source": [
    "from sklearn.base import BaseEstimator, ClassifierMixin\n",
    "from xgboost import XGBClassifier\n",
    "\n",
    "class MatchMakingClassifier(BaseEstimator, ClassifierMixin):\n",
    "    \n",
    "    def __init__(self, estimator, threshold=50):\n",
    "        self.estimator = estimator\n",
    "        self.threshold = threshold\n",
    "\n",
    "    def fit(self, X, y=None, **fit_params):\n",
    "        self.estimator.fit(X, y, **fit_params)\n",
    "        return self\n",
    "    \n",
    "    def predict(self, X):\n",
    "        pred = self.estimator.predict_proba(X)[:,1]\n",
    "        pred = np.where(pred > np.percentile(pred, self.threshold), 1, 0)\n",
    "        return pred"
   ]
  },
  {
   "cell_type": "code",
   "execution_count": 71,
   "metadata": {},
   "outputs": [
    {
     "name": "stdout",
     "output_type": "stream",
     "text": [
      "MatchMakingClassifier(estimator=Pipeline(memory=None,\n",
      "     steps=[('reduce_dim', SelectPercentile(percentile=44,\n",
      "         score_func=<function f_classif at 0x1c23b48d90>)), ('classify', XGBClassifier(base_score=0.5, booster='gbtree', colsample_bylevel=1,\n",
      "       colsample_bynode=1, colsample_bytree=1, gamma=0, gpu_id=-1,\n",
      "       learning_rate=0.1, max_delta_s...a=0,\n",
      "       reg_lambda=1, scale_pos_weight=1, subsample=1, tree_method='auto',\n",
      "       verbosity=1))]),\n",
      "           threshold=49) \n",
      "\n",
      "Mean score: 0.6116071024853217\n",
      "Std Dev:    0.0014661433996827427\n"
     ]
    }
   ],
   "source": [
    "clf = MatchMakingClassifier(model)\n",
    "params = {'threshold': [48,48.5,49]}\n",
    "grid = GridSearchCV(clf, param_grid=params, cv=5, scoring=scorer).fit(xtrain, ytrain)\n",
    "clf = grid.best_estimator_\n",
    "\n",
    "cv = cross_val_score(clf, xtrain, ytrain, cv=5, scoring=scorer)\n",
    "\n",
    "print(clf, '\\n')\n",
    "print('Mean score:', cv.mean())\n",
    "print('Std Dev:   ', cv.std())"
   ]
  },
  {
   "cell_type": "code",
   "execution_count": 72,
   "metadata": {},
   "outputs": [
    {
     "data": {
      "text/plain": [
       "0.6244267439053826"
      ]
     },
     "execution_count": 72,
     "metadata": {},
     "output_type": "execute_result"
    }
   ],
   "source": [
    "pred = clf.predict(xtest)\n",
    "\n",
    "fbeta_score(ytest, pred, beta=1.5)"
   ]
  },
  {
   "cell_type": "code",
   "execution_count": 131,
   "metadata": {},
   "outputs": [
    {
     "data": {
      "text/plain": [
       "array([[567, 389],\n",
       "       [  0, 199]])"
      ]
     },
     "execution_count": 131,
     "metadata": {},
     "output_type": "execute_result"
    }
   ],
   "source": [
    "from sklearn.metrics import confusion_matrix\n",
    "conf= confusion_matrix(ytest, pred)\n",
    "conf"
   ]
  },
  {
   "cell_type": "code",
   "execution_count": 128,
   "metadata": {},
   "outputs": [
    {
     "data": {
      "image/png": "[encoded data removed]",
      "text/plain": [
       "<Figure size 288x288 with 1 Axes>"
      ]
     },
     "metadata": {
      "needs_background": "light"
     },
     "output_type": "display_data"
    }
   ],
   "source": [
    "import matplotlib.pyplot as plt\n",
    "\n",
    "plt.matshow(conf, cmap='binary', interpolation='None')\n",
    "plt.show()"
   ]
  },
  {
   "cell_type": "code",
   "execution_count": null,
   "metadata": {},
   "outputs": [],
   "source": [
    "#Sensitivity Analysis"
   ]
  },
  {
   "cell_type": "code",
   "execution_count": 73,
   "metadata": {},
   "outputs": [],
   "source": [
    "from random import choice\n",
    "\n",
    "def sensitivity_analysis(x=x, clf=clf, cols=10, print_scrambled=False):\n",
    "    '''\n",
    "    Originally I tried shuffling and scrambling the\n",
    "    data. This takes a LONG time, so I eventually\n",
    "    settled on simply randoming it.\n",
    "    '''\n",
    "    cv_scores = []\n",
    "    \n",
    "    # Average over 5 times\n",
    "    for i in range(5):\n",
    "        x_sens = x.copy()\n",
    "        scrambled = []\n",
    "        while len(scrambled) < cols:\n",
    "            col_to_scramble = choice(x_sens.columns)\n",
    "            scrambled.append(col_to_scramble)\n",
    "            x_sens[col_to_scramble] = np.random.randn(len(x_sens))\n",
    "        if print_scrambled:\n",
    "            print('Scrambed:', scrambled)\n",
    "        cv_scores.append(cross_val_score(clf, x_sens, y, cv=4, scoring=scorer).mean())\n",
    "        \n",
    "    print('Average cross val score ({} columns scrambled):'.format(cols), np.mean(cv_scores))"
   ]
  },
  {
   "cell_type": "code",
   "execution_count": 74,
   "metadata": {},
   "outputs": [
    {
     "name": "stdout",
     "output_type": "stream",
     "text": [
      "Average cross val score (10 columns scrambled): 0.6135579783440301\n"
     ]
    }
   ],
   "source": [
    "sensitivity_analysis(cols=10)"
   ]
  },
  {
   "cell_type": "code",
   "execution_count": 75,
   "metadata": {},
   "outputs": [
    {
     "name": "stdout",
     "output_type": "stream",
     "text": [
      "Average cross val score (20 columns scrambled): 0.5584882450348972\n"
     ]
    }
   ],
   "source": [
    "sensitivity_analysis(cols=20)"
   ]
  },
  {
   "cell_type": "code",
   "execution_count": 76,
   "metadata": {},
   "outputs": [
    {
     "name": "stdout",
     "output_type": "stream",
     "text": [
      "Average cross val score (50 columns scrambled): 0.32566099637049384\n"
     ]
    }
   ],
   "source": [
    "sensitivity_analysis(cols=50)"
   ]
  },
  {
   "cell_type": "code",
   "execution_count": 77,
   "metadata": {},
   "outputs": [
    {
     "name": "stdout",
     "output_type": "stream",
     "text": [
      "Average cross val score (75 columns scrambled): 0.5537454308262616\n"
     ]
    }
   ],
   "source": [
    "sensitivity_analysis(cols=75)"
   ]
  },
  {
   "cell_type": "code",
   "execution_count": 78,
   "metadata": {},
   "outputs": [
    {
     "name": "stdout",
     "output_type": "stream",
     "text": [
      "Average cross val score (100 columns scrambled): 0.32019251882564165\n"
     ]
    }
   ],
   "source": [
    "sensitivity_analysis(cols=100)"
   ]
  },
  {
   "cell_type": "code",
   "execution_count": 79,
   "metadata": {},
   "outputs": [
    {
     "name": "stdout",
     "output_type": "stream",
     "text": [
      "Average cross val score (200 columns scrambled): 0.37179382854781\n"
     ]
    }
   ],
   "source": [
    "sensitivity_analysis(cols=200)"
   ]
  },
  {
   "cell_type": "code",
   "execution_count": 80,
   "metadata": {},
   "outputs": [
    {
     "name": "stdout",
     "output_type": "stream",
     "text": [
      "Average cross val score (400 columns scrambled): 0.3184245876441792\n"
     ]
    }
   ],
   "source": [
    "sensitivity_analysis(cols=400)"
   ]
  },
  {
   "cell_type": "code",
   "execution_count": 81,
   "metadata": {},
   "outputs": [
    {
     "name": "stdout",
     "output_type": "stream",
     "text": [
      "Mean f-beta: 0.6146 (Std dev: 0.0015)\n"
     ]
    }
   ],
   "source": [
    "#Cross Validation\n",
    "cv = cross_val_score(clf, x, y, cv=4, scoring=scorer)\n",
    "\n",
    "print('Mean f-beta: {0:.4f} (Std dev: {1:.4f})'.format(cv.mean(),  cv.std()))"
   ]
  },
  {
   "cell_type": "code",
   "execution_count": 82,
   "metadata": {},
   "outputs": [
    {
     "data": {
      "text/plain": [
       "0.5553541943866442"
      ]
     },
     "execution_count": 82,
     "metadata": {},
     "output_type": "execute_result"
    }
   ],
   "source": [
    "(cv.mean() - benchmark_score)/benchmark_score"
   ]
  },
  {
   "cell_type": "code",
   "execution_count": 89,
   "metadata": {},
   "outputs": [],
   "source": [
    "df1.fillna(0)\n",
    "df1 = df1[np.isfinite(df1).all(1)]\n",
    "#df1.to_csv('RF.csv')"
   ]
  },
  {
   "cell_type": "code",
   "execution_count": 95,
   "metadata": {},
   "outputs": [
    {
     "data": {
      "text/plain": [
       "(array([], dtype=int64), array([], dtype=int64))"
      ]
     },
     "execution_count": 95,
     "metadata": {},
     "output_type": "execute_result"
    }
   ],
   "source": [
    "np.where(df1.values >= np.finfo(np.float64).max)"
   ]
  },
  {
   "cell_type": "code",
   "execution_count": 96,
   "metadata": {},
   "outputs": [
    {
     "data": {
      "image/png": "[encoded data removed]",
      "text/plain": [
       "<Figure size 432x288 with 1 Axes>"
      ]
     },
     "metadata": {
      "needs_background": "light"
     },
     "output_type": "display_data"
    }
   ],
   "source": [
    "# Code from the sklearn documentation\n",
    "\n",
    "from sklearn.model_selection import StratifiedKFold\n",
    "from sklearn.metrics import roc_curve, auc\n",
    "\n",
    "cv = StratifiedKFold(n_splits=5)\n",
    "\n",
    "tprs = []\n",
    "aucs = []\n",
    "mean_fpr = np.linspace(0, 1, 100)\n",
    "\n",
    "i = 0\n",
    "for train, test in cv.split(x.values, y.values):\n",
    "    probas_ = model.fit(x.iloc[train], y.iloc[train]).predict_proba(x.iloc[test])\n",
    "    # Compute ROC curve and area the curve\n",
    "    fpr, tpr, thresholds = roc_curve(y.iloc[test], probas_[:, 1])\n",
    "    tprs.append(interp(mean_fpr, fpr, tpr))\n",
    "    tprs[-1][0] = 0.0\n",
    "    roc_auc = auc(fpr, tpr)\n",
    "    aucs.append(roc_auc)\n",
    "    plt.plot(fpr, tpr, lw=1, alpha=0.3,\n",
    "             label='ROC fold %d (AUC = %0.2f)' % (i+1, roc_auc))\n",
    "\n",
    "    i += 1\n",
    "plt.plot([0, 1], [0, 1], linestyle='--', lw=2, color='r',\n",
    "         label='Luck', alpha=.8)\n",
    "\n",
    "mean_tpr = np.mean(tprs, axis=0)\n",
    "mean_tpr[-1] = 1.0\n",
    "mean_auc = auc(mean_fpr, mean_tpr)\n",
    "std_auc = np.std(aucs)\n",
    "plt.plot(mean_fpr, mean_tpr, color='b',\n",
    "         label=r'Mean ROC (AUC = %0.2f $\\pm$ %0.2f)' % (mean_auc, std_auc),\n",
    "         lw=2, alpha=.8)\n",
    "\n",
    "std_tpr = np.std(tprs, axis=0)\n",
    "tprs_upper = np.minimum(mean_tpr + std_tpr, 1)\n",
    "tprs_lower = np.maximum(mean_tpr - std_tpr, 0)\n",
    "plt.fill_between(mean_fpr, tprs_lower, tprs_upper, color='grey', alpha=.2,\n",
    "                 label=r'$\\pm$ 1 std. dev.')\n",
    "\n",
    "plt.xlim([-0.05, 1.05])\n",
    "plt.ylim([-0.05, 1.05])\n",
    "plt.xlabel('False Positive Rate')\n",
    "plt.ylabel('True Positive Rate')\n",
    "plt.title('Receiver operating characteristic')\n",
    "plt.legend(loc=\"lower right\")\n",
    "plt.show()"
   ]
  },
  {
   "cell_type": "code",
   "execution_count": null,
   "metadata": {},
   "outputs": [],
   "source": [
    "from sklearn.metrics import confusion_matrix"
   ]
  },
  {
   "cell_type": "code",
   "execution_count": 100,
   "metadata": {},
   "outputs": [
    {
     "ename": "AttributeError",
     "evalue": "'MatchMakingClassifier' object has no attribute 'get_fscore'",
     "output_type": "error",
     "traceback": [
      "\u001b[0;31m---------------------------------------------------------------------------\u001b[0m",
      "\u001b[0;31mAttributeError\u001b[0m                            Traceback (most recent call last)",
      "\u001b[0;32m<ipython-input-100-d842f74b5cd8>\u001b[0m in \u001b[0;36m<module>\u001b[0;34m\u001b[0m\n\u001b[1;32m      6\u001b[0m \u001b[0mfig\u001b[0m\u001b[0;34m,\u001b[0m \u001b[0max\u001b[0m \u001b[0;34m=\u001b[0m \u001b[0mplt\u001b[0m\u001b[0;34m.\u001b[0m\u001b[0msubplots\u001b[0m\u001b[0;34m(\u001b[0m\u001b[0mfigsize\u001b[0m\u001b[0;34m=\u001b[0m\u001b[0;34m(\u001b[0m\u001b[0;36m12\u001b[0m\u001b[0;34m,\u001b[0m \u001b[0mlen\u001b[0m\u001b[0;34m(\u001b[0m\u001b[0mx\u001b[0m\u001b[0;34m.\u001b[0m\u001b[0mcolumns\u001b[0m\u001b[0;34m)\u001b[0m\u001b[0;34m//\u001b[0m\u001b[0;36m2\u001b[0m\u001b[0;34m)\u001b[0m\u001b[0;34m)\u001b[0m\u001b[0;34m\u001b[0m\u001b[0;34m\u001b[0m\u001b[0m\n\u001b[1;32m      7\u001b[0m \u001b[0;34m\u001b[0m\u001b[0m\n\u001b[0;32m----> 8\u001b[0;31m importances = df1(xg.get_fscore,\n\u001b[0m\u001b[1;32m      9\u001b[0m                         index=x.columns).sort_values(ascending=True)\n\u001b[1;32m     10\u001b[0m \u001b[0;34m\u001b[0m\u001b[0m\n",
      "\u001b[0;31mAttributeError\u001b[0m: 'MatchMakingClassifier' object has no attribute 'get_fscore'"
     ]
    },
    {
     "data": {
      "image/png": "[encoded data removed]",
      "text/plain": [
       "<Figure size 864x1728 with 1 Axes>"
      ]
     },
     "metadata": {
      "needs_background": "light"
     },
     "output_type": "display_data"
    }
   ],
   "source": [
    "# For simplicity's sake, we'll train a new XGBoost classifier\n",
    "from xgboost import XGBClassifier\n",
    "xg = XGBClassifier(max_depth=12, n_estimators=400).fit(x,y)\n",
    "xg = grid.best_estimator_\n",
    "\n",
    "fig, ax = plt.subplots(figsize=(12, len(x.columns)//2))\n",
    "\n",
    "importances = df1(xg.get_fscore,\n",
    "                        index=x.columns).sort_values(ascending=True)\n",
    "\n",
    "importances.plot.barh()"
   ]
  },
  {
   "cell_type": "code",
   "execution_count": null,
   "metadata": {},
   "outputs": [],
   "source": []
  }
 ],
 "metadata": {
  "kernelspec": {
   "display_name": "Python 3",
   "language": "python",
   "name": "python3"
  },
  "language_info": {
   "codemirror_mode": {
    "name": "ipython",
    "version": 3
   },
   "file_extension": ".py",
   "mimetype": "text/x-python",
   "name": "python",
   "nbconvert_exporter": "python",
   "pygments_lexer": "ipython3",
   "version": "3.7.3"
  }
 },
 "nbformat": 4,
 "nbformat_minor": 2
}
